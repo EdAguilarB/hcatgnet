{
 "cells": [
  {
   "cell_type": "code",
   "execution_count": 1,
   "metadata": {},
   "outputs": [],
   "source": [
    "import torch\n",
    "import numpy as np\n",
    "from torch_geometric.loader import DataLoader\n",
    "from rdkit import Chem\n",
    "from rdkit.Chem.rdmolops import AddHs\n",
    "import os\n",
    "import random\n",
    "\n",
    "from torch_geometric.explain import Explainer, GNNExplainer, CaptumExplainer, PGExplainer\n",
    "\n",
    "from sklearn.metrics import r2_score, mean_absolute_error, mean_squared_error, precision_score, recall_score, accuracy_score\n",
    "\n",
    "import matplotlib.pyplot as plt\n",
    "import plotly.graph_objects as go\n",
    "\n",
    "\n",
    "import sys\n",
    "from icecream import ic\n",
    "\n",
    "sys.path.insert(0, \n",
    "                './Utils')\n",
    "\n",
    "\n",
    "from Utils.plot_importances import *\n",
    "\n",
    "from Utils.utils import *\n",
    "from Utils.ploting_functions import *\n",
    "from Utils.model import GCN_loop"
   ]
  },
  {
   "cell_type": "code",
   "execution_count": 2,
   "metadata": {},
   "outputs": [
    {
     "name": "stdout",
     "output_type": "stream",
     "text": [
      "Analysing outer 8, inner 9\n"
     ]
    }
   ],
   "source": [
    "random.seed(123456789)\n",
    "outer = random.randint(1, 10)\n",
    "inner = random.randint(1, 9)\n",
    "print('Analysing outer {}, inner {}'.format(outer, inner))"
   ]
  },
  {
   "cell_type": "code",
   "execution_count": 3,
   "metadata": {},
   "outputs": [],
   "source": [
    "current_dir = os.getcwd()\n",
    "experiments_dir = 'RhCASA/GNN'\n",
    "\n",
    "model_path = os.path.join(current_dir, experiments_dir, str(outer), '{}_{}_model'.format(outer,inner))"
   ]
  },
  {
   "cell_type": "code",
   "execution_count": 4,
   "metadata": {},
   "outputs": [],
   "source": [
    "train_loader = torch.load(os.path.join(model_path, 'train_loader.pth'))\n",
    "val_loader = torch.load(os.path.join(model_path, 'val_loader.pth'))\n",
    "test_loader = torch.load(os.path.join(model_path, 'test_loader.pth'))\n",
    "\n",
    "all_data = train_loader.dataset + val_loader.dataset + test_loader.dataset\n",
    "\n",
    "loader_all = DataLoader(all_data)"
   ]
  },
  {
   "cell_type": "code",
   "execution_count": 5,
   "metadata": {},
   "outputs": [
    {
     "name": "stdout",
     "output_type": "stream",
     "text": [
      "Dataset type:  <class 'torch_geometric.data.data.Data'>\n",
      "Dataset node features:  24\n",
      "Dataset sample:  Data(x=[77, 24], edge_index=[2, 160], edge_attr=[160, 2], y=[1], category=[1], ligand='C1=C(c2ccccc2)[C@@H]2C=C(c3ccccc3)[C@H]1CC2', substrate='COC(=O)/C(C#N)=C/c1ccc(Cl)cc1', boron='OB(O)c1ccc(Br)cc1', ligand_num=17, ligand_id='L3.20', ligand_fam='fam3', idx=494, fold=7)\n",
      "Sample features:  tensor([[0., 0., 1.,  ..., 0., 0., 0.],\n",
      "        [0., 0., 1.,  ..., 0., 0., 0.],\n",
      "        [0., 0., 1.,  ..., 0., 0., 0.],\n",
      "        ...,\n",
      "        [1., 0., 0.,  ..., 0., 0., 0.],\n",
      "        [1., 0., 0.,  ..., 0., 0., 0.],\n",
      "        [1., 0., 0.,  ..., 0., 0., 0.]])\n",
      "Sample outcome:  tensor([98.])\n",
      "Sample cat:  tensor([1])\n"
     ]
    },
    {
     "data": {
      "image/png": "[encoded data removed]",
      "text/plain": [
       "<IPython.core.display.Image object>"
      ]
     },
     "execution_count": 5,
     "metadata": {},
     "output_type": "execute_result"
    }
   ],
   "source": [
    "example_mol = test_loader.dataset[random.randint(0,len(test_loader.dataset))]\n",
    "\n",
    "print(\"Dataset type: \", type(example_mol))\n",
    "print(\"Dataset node features: \", example_mol.num_features)\n",
    "print(\"Dataset sample: \", example_mol)\n",
    "print('Sample features: ',  example_mol.x)\n",
    "print('Sample outcome: ',  example_mol.y)\n",
    "print('Sample cat: ',  example_mol.category)\n",
    "\n",
    "ms = [example_mol.ligand, example_mol.substrate, example_mol.boron]\n",
    "ms = [Chem.MolFromSmiles(mol) for mol in ms]\n",
    "Chem.Draw.MolsToGridImage(ms,molsPerRow=3,subImgSize=(200,200),legends=['Ligand', 'Substrate', 'Boron reagent']) "
   ]
  },
  {
   "cell_type": "code",
   "execution_count": 6,
   "metadata": {},
   "outputs": [],
   "source": [
    "states = []\n",
    "for outer in range(1,11):\n",
    "    for inner in range(1,10):\n",
    "        path = os.path.join(current_dir, experiments_dir, '{}'.format(outer), '{}_{}_model'.format(outer,inner), 'GNN_params_r.pth')\n",
    "        params = torch.load(path, map_location=torch.device('cpu'))\n",
    "        states.append(params)\n",
    "\n",
    "\n",
    "avg_state = average_state_dicts(states)"
   ]
  },
  {
   "cell_type": "code",
   "execution_count": 7,
   "metadata": {},
   "outputs": [
    {
     "data": {
      "text/plain": [
       "GCN_loop(\n",
       "  (initial_conv): GCNConv(24, 64)\n",
       "  (conv_layers): ModuleList(\n",
       "    (0): GCNConv(64, 64)\n",
       "  )\n",
       "  (readout1): Linear(in_features=128, out_features=64, bias=True)\n",
       "  (readout2): Linear(in_features=64, out_features=1, bias=True)\n",
       ")"
      ]
     },
     "execution_count": 7,
     "metadata": {},
     "output_type": "execute_result"
    }
   ],
   "source": [
    "device = 'cpu'\n",
    "#model = torch.load(os.path.join(model_path, 'model_r.pth'))\n",
    "model = GCN_loop(example_mol.num_features, embedding_size = 64, gnn_layers=2, improved=False)\n",
    "model_params = torch.load(os.path.join(model_path, 'GNN_params_r.pth'))\n",
    "model.load_state_dict(model_params)\n",
    "\n",
    "model.to(device)"
   ]
  },
  {
   "cell_type": "code",
   "execution_count": 8,
   "metadata": {},
   "outputs": [
    {
     "name": "stdout",
     "output_type": "stream",
     "text": [
      "Metrics of mean model over all datapoints\n",
      "Precision 0.9853372434017595\n",
      "Recall 0.9795918367346939\n",
      "Accuracy 0.9825072886297376\n",
      "R2 0.9300291545189504\n",
      "MAE 0.01749271137026239\n",
      "RMSE 0.13226001425322165\n"
     ]
    }
   ],
   "source": [
    "with torch.no_grad():\n",
    "\n",
    "    predictions = []\n",
    "    y = []\n",
    "    indexes = []\n",
    "\n",
    "    for batch in loader_all:\n",
    "\n",
    "        batch.to(device)\n",
    "\n",
    "        out = model(batch.x,\n",
    "                    batch.edge_index,\n",
    "                    batch.batch)\n",
    "            \n",
    "        predictions.append(out.cpu().detach().numpy())\n",
    "        y.append(batch.y.cpu().detach().numpy())\n",
    "        indexes.append(batch.idx.cpu().detach().numpy())\n",
    "\n",
    "    predictions = np.concatenate(predictions).ravel()\n",
    "    y = np.concatenate(y).ravel()\n",
    "    indexes = np.concatenate(indexes).ravel()\n",
    "\n",
    "\n",
    "df = pd.DataFrame({'real_top': y, 'predicted_top': predictions, 'Index': indexes})\n",
    "\n",
    "df['real_side'] = np.where(df['real_top'] >50, 1, 0)\n",
    "df['predicted_side'] = np.where(df['predicted_top'] >50, 1, 0)\n",
    "\n",
    "accuracy = accuracy_score(df['real_side'], df['predicted_side'])\n",
    "precision = precision_score(df['real_side'], df['predicted_side'])\n",
    "recall = recall_score(df['real_side'], df['predicted_side'])\n",
    "\n",
    "r2 = r2_score(df['real_side'], df['predicted_side'])\n",
    "mae = mean_absolute_error(df['real_side'], df['predicted_side'])\n",
    "rmse = sqrt(mean_squared_error(df['real_side'], df['predicted_side']))\n",
    "\n",
    "print('Metrics of mean model over all datapoints')\n",
    "\n",
    "print('Precision {}'.format(precision))\n",
    "print('Recall {}'.format(recall))\n",
    "print('Accuracy {}'.format(accuracy))\n",
    "print('R2 {}'.format(r2))\n",
    "print('MAE {}'.format(mae))\n",
    "print('RMSE {}'.format(rmse))\n"
   ]
  },
  {
   "cell_type": "code",
   "execution_count": 9,
   "metadata": {},
   "outputs": [
    {
     "data": {
      "application/vnd.plotly.v1+json": {
       "config": {
        "plotlyServerURL": "https://plot.ly"
       },
       "data": [
        {
         "hovertext": [
          9,
          15,
          27,
          31,
          37,
          45,
          52,
          53,
          54,
          77,
          105,
          107,
          108,
          111,
          112,
          132,
          138,
          139,
          149,
          151,
          228,
          229,
          242,
          253,
          255,
          258,
          267,
          270,
          279,
          282,
          302,
          310,
          312,
          314,
          321,
          339,
          353,
          356,
          380,
          384,
          391,
          409,
          425,
          429,
          450,
          456,
          481,
          517,
          528,
          533,
          534,
          552,
          555,
          560,
          564,
          592,
          594,
          596,
          602,
          611,
          617,
          627,
          633,
          637,
          649,
          655,
          671,
          672,
          682,
          17,
          29,
          38,
          46,
          67,
          70,
          76,
          79,
          100,
          110,
          123,
          152,
          159,
          166,
          169,
          173,
          182,
          183,
          191,
          211,
          236,
          239,
          251,
          274,
          287,
          331,
          336,
          341,
          359,
          361,
          366,
          379,
          393,
          394,
          399,
          404,
          416,
          419,
          423,
          435,
          458,
          467,
          468,
          477,
          479,
          485,
          488,
          493,
          498,
          526,
          530,
          532,
          538,
          542,
          550,
          553,
          554,
          595,
          606,
          607,
          619,
          620,
          623,
          626,
          632,
          645,
          651,
          657,
          665,
          0,
          65,
          68,
          87,
          94,
          97,
          104,
          119,
          122,
          148,
          154,
          156,
          167,
          184,
          199,
          202,
          205,
          209,
          254,
          259,
          262,
          269,
          281,
          291,
          297,
          298,
          307,
          309,
          316,
          318,
          326,
          327,
          330,
          334,
          335,
          368,
          411,
          417,
          418,
          421,
          432,
          440,
          452,
          455,
          462,
          466,
          482,
          483,
          486,
          487,
          492,
          499,
          520,
          522,
          545,
          549,
          558,
          561,
          578,
          581,
          586,
          587,
          615,
          624,
          635,
          650,
          658,
          663,
          677,
          6,
          8,
          20,
          41,
          51,
          59,
          64,
          69,
          83,
          92,
          115,
          124,
          126,
          129,
          131,
          133,
          143,
          161,
          163,
          178,
          179,
          212,
          216,
          219,
          225,
          231,
          240,
          245,
          247,
          257,
          261,
          284,
          286,
          303,
          333,
          349,
          364,
          374,
          396,
          400,
          405,
          410,
          420,
          426,
          430,
          439,
          449,
          459,
          461,
          472,
          475,
          489,
          495,
          500,
          511,
          512,
          536,
          539,
          551,
          568,
          598,
          601,
          604,
          609,
          612,
          640,
          641,
          667,
          674,
          5,
          16,
          19,
          22,
          48,
          56,
          58,
          60,
          61,
          102,
          103,
          127,
          128,
          130,
          136,
          147,
          153,
          172,
          177,
          181,
          186,
          188,
          194,
          197,
          210,
          220,
          222,
          237,
          244,
          246,
          264,
          271,
          277,
          278,
          292,
          301,
          315,
          320,
          337,
          352,
          357,
          360,
          363,
          367,
          376,
          401,
          424,
          445,
          478,
          497,
          513,
          516,
          518,
          535,
          537,
          543,
          557,
          566,
          575,
          589,
          599,
          618,
          638,
          647,
          648,
          668,
          669,
          678,
          684,
          23,
          34,
          35,
          36,
          39,
          73,
          120,
          135,
          140,
          155,
          158,
          160,
          170,
          176,
          180,
          195,
          200,
          207,
          221,
          226,
          235,
          238,
          250,
          260,
          263,
          265,
          313,
          322,
          329,
          344,
          345,
          354,
          370,
          371,
          377,
          385,
          386,
          402,
          403,
          412,
          422,
          434,
          436,
          447,
          448,
          451,
          463,
          470,
          471,
          490,
          503,
          506,
          514,
          540,
          541,
          547,
          562,
          569,
          573,
          580,
          582,
          590,
          613,
          622,
          629,
          630,
          631,
          639,
          661,
          1,
          10,
          28,
          30,
          42,
          62,
          63,
          66,
          71,
          82,
          84,
          88,
          89,
          118,
          142,
          168,
          187,
          192,
          193,
          201,
          206,
          208,
          217,
          223,
          224,
          230,
          234,
          241,
          266,
          288,
          293,
          299,
          351,
          358,
          372,
          375,
          381,
          382,
          390,
          407,
          414,
          415,
          433,
          437,
          438,
          441,
          442,
          446,
          453,
          480,
          491,
          502,
          527,
          556,
          559,
          614,
          616,
          636,
          642,
          644,
          652,
          653,
          660,
          664,
          666,
          675,
          676,
          681,
          3,
          4,
          11,
          18,
          26,
          55,
          74,
          81,
          86,
          93,
          95,
          146,
          165,
          174,
          175,
          190,
          196,
          213,
          215,
          233,
          248,
          252,
          273,
          280,
          283,
          295,
          296,
          325,
          332,
          338,
          340,
          348,
          362,
          373,
          387,
          389,
          392,
          397,
          398,
          428,
          431,
          443,
          454,
          457,
          464,
          469,
          474,
          476,
          496,
          501,
          510,
          515,
          521,
          531,
          546,
          567,
          570,
          571,
          574,
          585,
          588,
          591,
          603,
          608,
          625,
          643,
          679,
          680,
          2,
          7,
          14,
          21,
          33,
          40,
          47,
          50,
          72,
          75,
          78,
          85,
          91,
          96,
          101,
          113,
          116,
          117,
          121,
          134,
          137,
          141,
          162,
          164,
          171,
          185,
          203,
          232,
          243,
          268,
          275,
          276,
          289,
          290,
          300,
          304,
          306,
          323,
          328,
          343,
          347,
          350,
          383,
          395,
          406,
          427,
          473,
          484,
          504,
          507,
          508,
          519,
          523,
          548,
          563,
          565,
          576,
          593,
          597,
          600,
          610,
          621,
          628,
          659,
          670,
          673,
          683,
          685,
          12,
          13,
          24,
          25,
          32,
          43,
          44,
          49,
          57,
          80,
          90,
          98,
          99,
          106,
          109,
          114,
          125,
          144,
          145,
          150,
          157,
          189,
          198,
          204,
          214,
          218,
          227,
          249,
          256,
          272,
          285,
          294,
          305,
          308,
          311,
          317,
          319,
          324,
          342,
          346,
          355,
          365,
          369,
          378,
          388,
          408,
          413,
          444,
          460,
          465,
          494,
          505,
          509,
          524,
          525,
          529,
          544,
          572,
          577,
          579,
          583,
          584,
          605,
          634,
          646,
          654,
          656,
          662
         ],
         "mode": "markers",
         "type": "scatter",
         "x": [
          2.25,
          15,
          1,
          1.75,
          11,
          97.5,
          97.5,
          97.5,
          98,
          1.399999976158142,
          5,
          7,
          5,
          93.5,
          96,
          1,
          1.25,
          1,
          1.75,
          2,
          91.5,
          15,
          98.5,
          1,
          1,
          2.5,
          94.5,
          96.5,
          96,
          96,
          2,
          1,
          96.5,
          87.5,
          2,
          5,
          95.25,
          94.5,
          89,
          98,
          97,
          94.25,
          99,
          5,
          93,
          9,
          98.75,
          97.5,
          96,
          5.5,
          7.5,
          98.5,
          99,
          92.375,
          86,
          5.5,
          4.5,
          99,
          1,
          4.5,
          5,
          3,
          20,
          1.75,
          99,
          3.5,
          97.5,
          96,
          95,
          3.5,
          0.5,
          8.5,
          1.75,
          28,
          3.625,
          5,
          0.30000001192092896,
          5.5,
          92.5,
          1,
          1,
          1,
          0.5,
          4,
          3.5,
          6.5,
          2.5,
          92.5,
          25.5,
          93.5,
          96.5,
          95.5,
          95,
          74,
          6.5,
          3.5,
          15,
          98,
          67,
          97.83333587646484,
          77,
          90.5,
          2.5,
          99.13999938964844,
          98,
          98.5,
          95,
          89,
          76,
          7.5,
          98,
          98.5,
          99.5,
          99,
          97.5,
          98,
          99,
          99,
          97.5,
          5.5,
          4,
          10,
          99,
          97.5,
          96,
          74.5,
          95.5,
          10,
          5.5,
          4,
          5,
          4,
          4,
          4.5,
          98,
          4,
          12.5,
          99.69999694824219,
          6,
          2,
          4.5,
          11,
          11,
          19.5,
          5,
          2,
          69.5,
          6.25,
          1,
          1,
          15.5,
          17.5,
          1,
          0.5,
          1,
          1.5,
          98,
          99,
          91.5,
          96,
          96.25,
          0.5,
          2,
          2.5,
          97.5,
          97,
          2,
          4,
          4.5,
          2.5,
          3.5,
          1.5,
          3.5,
          98.75,
          95.5,
          98,
          97.5,
          97.25,
          96,
          80.5,
          93.5,
          4,
          98,
          99,
          99,
          99,
          78.5,
          98.5,
          98.25,
          99,
          96.5,
          99,
          99.5,
          98,
          87.25,
          87.5,
          95.5,
          2,
          14.5,
          7,
          3.5,
          3.75,
          99.69999694824219,
          2.5,
          97.5,
          2,
          98.5,
          96.5,
          1.25,
          1.274999976158142,
          2,
          97.5,
          6.75,
          5.5,
          27.5,
          0.5,
          24,
          92.5,
          2,
          7.5,
          1,
          2.5,
          0.5,
          21.5,
          1.5,
          1,
          1.5,
          1,
          1,
          13.5,
          14.75,
          6,
          0.5,
          92.5,
          95,
          10,
          3,
          5,
          97,
          95.5,
          1.5,
          1,
          3.5,
          98.16666412353516,
          98.25,
          2.5,
          97,
          96.5,
          72,
          98.5999984741211,
          99.5,
          89,
          92.5,
          95.5,
          8,
          99.5,
          99,
          99,
          99.5,
          99,
          85,
          76,
          96,
          6.5,
          99.5,
          98.5,
          94,
          99,
          97.5,
          95,
          3.5,
          4,
          98,
          97.5,
          97.5,
          93.5,
          95.75,
          2,
          11.5,
          1.6666666269302368,
          3,
          0.8600000143051147,
          0.4000000059604645,
          2,
          2,
          97.5,
          7.5,
          4,
          5.75,
          2,
          1,
          1,
          2,
          0.5,
          3.5,
          4.199999809265137,
          95,
          93.5,
          93,
          16.5,
          4,
          6.25,
          2,
          3.222222328186035,
          93,
          98.5,
          94.5,
          95.5,
          95,
          96.5,
          0.30000001192092896,
          3.5,
          2.5,
          98,
          2.5,
          97.75,
          95,
          96.5,
          98.7249984741211,
          98.25,
          97.5,
          99.5999984741211,
          97,
          2.5,
          99.5,
          99,
          91.5,
          96.5,
          97.5,
          4,
          7,
          99,
          78.5,
          98,
          99,
          1.5,
          1.5,
          4.5,
          92.5,
          1,
          96.4000015258789,
          95,
          95.5,
          96.5,
          85,
          2.1666667461395264,
          25,
          11.5,
          23,
          22.5,
          1.5,
          95,
          0.5,
          1,
          1,
          0.5,
          2,
          8.5,
          2,
          7,
          90,
          1,
          2.5,
          14,
          2,
          4.5,
          98,
          94,
          2.5,
          90,
          0.4000000059604645,
          1.5,
          0.30000001192092896,
          4,
          97.66666412353516,
          21,
          97.5,
          99,
          99,
          75,
          96,
          1.5,
          93.25,
          98,
          72.5,
          99.69999694824219,
          94,
          2.4000000953674316,
          95,
          95,
          95,
          5,
          96,
          94.25,
          99,
          98,
          99,
          99.5,
          83.5,
          76,
          99.5,
          85.25,
          98,
          98.5,
          96.77777862548828,
          3.5,
          90,
          3.5,
          4,
          4.5,
          26,
          40.5,
          99.0999984741211,
          96,
          2.3333332538604736,
          4.75,
          1,
          1.5,
          4,
          3.5,
          2.5,
          5.75,
          1,
          1,
          2,
          98,
          4,
          0.5,
          2.5,
          24,
          94.5,
          96,
          93.5,
          2.5,
          2,
          1.5,
          7.625,
          2,
          2.5,
          1.5,
          7,
          95,
          96.5,
          59.5,
          13,
          2,
          98.75,
          85,
          99.5,
          99,
          91.5,
          77.5,
          91.5,
          94.5,
          99,
          96.75,
          3.5,
          89,
          4.5,
          7.5,
          4.5,
          92.5,
          7.5,
          98,
          93.75,
          99,
          82.5,
          83.5,
          86.5,
          4.5,
          4.5,
          87,
          98,
          96.5,
          3,
          99,
          9,
          98,
          93.5,
          97,
          99,
          96.75,
          97.5,
          91,
          2.5,
          33,
          2,
          2.5,
          2,
          3,
          95,
          97.5999984741211,
          95.5,
          0.5,
          0.5,
          2.5,
          2.5,
          94.5,
          0.5,
          16.5,
          12.75,
          3,
          95,
          4.5,
          95.5,
          96,
          96,
          7.5,
          0.8999999761581421,
          5,
          3,
          3.25,
          2,
          4.25,
          88.5,
          98.5,
          98,
          98.25,
          97.5,
          2,
          97.5,
          91.875,
          2,
          94.5,
          6.5,
          8,
          4.5,
          92.5,
          97.5,
          99.5,
          98,
          99.5,
          84.5,
          99.5,
          98.5,
          6.5,
          99.5,
          97.5,
          5,
          8.5,
          99.5,
          1.5,
          5,
          5,
          97.5,
          99.5999984741211,
          4,
          98.5,
          96.5,
          97.5,
          79,
          94,
          5,
          1.8333333730697632,
          2.5,
          3.1666667461395264,
          8.5,
          9.5,
          3.25,
          2.5,
          2.75,
          8.125,
          6,
          7.5,
          94.5,
          91,
          92,
          1.5,
          95.5,
          0.5,
          2,
          1,
          0.5,
          1.5,
          0.5,
          4,
          0.5,
          1,
          85.5,
          95.5,
          95.5,
          96,
          95.5,
          80,
          1.5,
          99,
          1,
          6.5,
          2.5,
          94,
          9,
          6,
          96.83333587646484,
          2.5,
          97.5,
          98,
          98,
          99,
          98.5,
          98.5,
          99.5,
          98,
          93,
          99,
          93.75,
          98,
          97,
          6,
          2,
          97,
          5.5,
          3.5,
          3.5,
          98,
          97.5,
          96.5,
          98,
          99.69999694824219,
          5,
          5.5,
          1.75,
          1.25,
          1,
          98.5,
          2,
          2.5,
          3,
          11,
          96.5,
          92.5,
          95.5,
          4.5,
          6.5,
          92,
          1.5,
          1.5,
          2,
          1,
          15,
          96,
          24,
          0.5,
          21.5,
          12.5,
          95,
          94.5,
          98.5,
          96.5,
          96.5,
          98.25,
          3.5999999046325684,
          96,
          1.5,
          91,
          5,
          2.5,
          0.30000001192092896,
          2.5,
          95,
          98.33333587646484,
          98,
          88.5,
          2.5,
          98,
          96.375,
          5.5,
          98.5,
          30.5,
          98,
          99.5,
          99.5,
          95.80000305175781,
          93.5,
          5,
          97.5,
          85,
          93,
          6.5,
          7.5,
          5,
          8.5,
          99.5,
          98.5,
          98.5,
          98.5,
          95
         ],
         "y": [
          0.0038815410807728767,
          9.317140579223633,
          0.0018393361242488027,
          0.0022064626682549715,
          0.01138306874781847,
          96.8307876586914,
          95.3970947265625,
          87.80335998535156,
          98.5210952758789,
          0.003851203713566065,
          0.05013042315840721,
          0.0591726116836071,
          0.049976080656051636,
          89.55057525634766,
          90.22025299072266,
          1.5403833389282227,
          0.6627815961837769,
          1.3864116668701172,
          0.0003434248792473227,
          0.0002275251317769289,
          93.73794555664062,
          1.5342352390289307,
          92.0507583618164,
          2.841723918914795,
          0.32996782660484314,
          2.788597822189331,
          86.86400604248047,
          89.84031677246094,
          94.4891357421875,
          94.17988586425781,
          0.7171118855476379,
          0.5464390516281128,
          97.37614440917969,
          97.0916519165039,
          1.6691579818725586,
          0.006870735436677933,
          98.34248352050781,
          98.92868041992188,
          83.32008361816406,
          98.57203674316406,
          97.71025085449219,
          94.65913391113281,
          99.18780517578125,
          2.8626251220703125,
          88.9881362915039,
          2.5194640159606934,
          96.92430114746094,
          97.4565658569336,
          98.01776123046875,
          0.18877354264259338,
          0.12195325642824173,
          90.82057189941406,
          96.9350814819336,
          94.07048034667969,
          95.07171630859375,
          3.442060947418213,
          1.0567212104797363,
          98.00141143798828,
          0.7567021250724792,
          2.0313029289245605,
          1.8568458557128906,
          0.6403988003730774,
          1.4932334423065186,
          0.4985920488834381,
          97.17697143554688,
          0.4282010793685913,
          99.78657531738281,
          99.5959243774414,
          99.37345123291016,
          0.007838914170861244,
          0.0030074231326580048,
          0.003821832127869129,
          0.6066434383392334,
          5.825040817260742,
          0.004863159265369177,
          0.0033860381226986647,
          0.0038877795450389385,
          1.2311114072799683,
          89.1044692993164,
          1.0032031536102295,
          0.1123664528131485,
          1.463599681854248,
          0.269038587808609,
          0.013056110590696335,
          0.0029023292008787394,
          2.3299989700317383,
          0.0006225451361387968,
          99.46833038330078,
          0.016064153984189034,
          92.7195816040039,
          97.36408996582031,
          97.06244659423828,
          96.23099517822266,
          81.78273010253906,
          0.3528672456741333,
          0.001757748075760901,
          0.8347308039665222,
          94.77557373046875,
          98.31559753417969,
          98.25444793701172,
          69.2195053100586,
          91.1555404663086,
          2.1739652156829834,
          97.2750473022461,
          89.48036193847656,
          94.90250396728516,
          91.40897369384766,
          96.90686798095703,
          70.6604995727539,
          3.2053048610687256,
          95.92144012451172,
          95.62376403808594,
          95.89547729492188,
          96.13812255859375,
          98.4336929321289,
          99.86140441894531,
          99.81278991699219,
          99.83296966552734,
          99.77071380615234,
          0.2697271406650543,
          0.3078315556049347,
          0.20603235065937042,
          95.58308410644531,
          92.74652862548828,
          95.97540283203125,
          98.00308227539062,
          65.94247436523438,
          96.5394287109375,
          2.497164487838745,
          0.034512847661972046,
          0.059837695211172104,
          0.9397236704826355,
          0.6353306174278259,
          1.4985003471374512,
          98.46026611328125,
          96.30380249023438,
          0.5388698577880859,
          95.98600006103516,
          0.4006018042564392,
          1.3065814971923828,
          0.007781298365443945,
          0.004487053025513887,
          0.005968803074210882,
          0.012293021194636822,
          0.043862201273441315,
          0.6956659555435181,
          92.6802978515625,
          0.00029334891587495804,
          0.0014643054455518723,
          0.00016986143600661308,
          6.836937427520752,
          1.8309764862060547,
          2.0639548301696777,
          0.4724753499031067,
          0.15362663567066193,
          0.028250960633158684,
          96.88518524169922,
          97.24343872070312,
          89.32384490966797,
          93.47979736328125,
          95.10816955566406,
          0.15992975234985352,
          3.90193247795105,
          0.4716188609600067,
          0.02492598444223404,
          0.12902949750423431,
          0.3551987409591675,
          4.72858190536499,
          0.005851488094776869,
          0.0030544553883373737,
          0.14667195081710815,
          0.0014782394282519817,
          0.0016496649477630854,
          97.54997253417969,
          90.06328582763672,
          96.361328125,
          94.30877685546875,
          90.66204071044922,
          97.40345764160156,
          89.04871368408203,
          86.96947479248047,
          2.355830669403076,
          97.18427276611328,
          95.8703384399414,
          96.6541976928711,
          97.2880630493164,
          99.78665924072266,
          99.66914367675781,
          99.71609497070312,
          99.78402709960938,
          98.44995880126953,
          98.61117553710938,
          94.8648452758789,
          92.99264526367188,
          86.19536590576172,
          88.15830993652344,
          93.58689880371094,
          0.5222389698028564,
          3.2359297275543213,
          3.594313144683838,
          4.4192795753479,
          0.7950631976127625,
          93.77654266357422,
          88.59033966064453,
          97.99241638183594,
          99.53500366210938,
          99.77135467529297,
          92.6778564453125,
          0.6164599657058716,
          0.0030181340407580137,
          0.009029140695929527,
          94.70902252197266,
          0.014379814267158508,
          1.1294653415679932,
          7.28224515914917,
          0.0004226032178848982,
          7.701967716217041,
          89.5550308227539,
          0.5956030488014221,
          0.0030180909670889378,
          0.004357318393886089,
          0.005230950191617012,
          1.8543956279754639,
          0.0003623879747465253,
          0.9108518362045288,
          0.26903870701789856,
          0.03687054663896561,
          0.003895239206030965,
          0.491415798664093,
          0.03830629214644432,
          0.04249899089336395,
          0.29408350586891174,
          1.6015510559082031,
          97.24339294433594,
          95.0311279296875,
          0.004161657765507698,
          3.0417330265045166,
          3.06449556350708,
          93.25469207763672,
          95.10816955566406,
          0.8850951790809631,
          0.001480708597227931,
          8.67365837097168,
          97.304931640625,
          98.14867401123047,
          3.074089765548706,
          93.1063461303711,
          92.79373931884766,
          77.58454132080078,
          89.49730682373047,
          99.55068969726562,
          91.81848907470703,
          92.2901611328125,
          81.86970520019531,
          3.016183614730835,
          97.9156265258789,
          95.59429931640625,
          96.3455810546875,
          99.78726959228516,
          99.84230041503906,
          96.33546447753906,
          98.6689682006836,
          95.89913177490234,
          0.3441040813922882,
          91.8822250366211,
          98.01162719726562,
          97.00873565673828,
          98.44642639160156,
          96.1507339477539,
          96.34278106689453,
          0.09603972733020782,
          3.2560102939605713,
          96.43061065673828,
          98.78736114501953,
          97.25755310058594,
          97.8346176147461,
          97.48090362548828,
          1.3227862119674683,
          0.004147786647081375,
          0.0038401430938392878,
          0.18525119125843048,
          0.548879861831665,
          0.7577575445175171,
          0.005921356379985809,
          0.006686843931674957,
          97.35167694091797,
          1.1570242643356323,
          0.6590964198112488,
          0.0038180837873369455,
          0.0045599802397191525,
          1.535357117652893,
          0.0002933478099294007,
          0.00023973893257789314,
          0.0025343329180032015,
          0.002115880139172077,
          0.06503725796937943,
          97.58780670166016,
          98.24652862548828,
          97.02123260498047,
          0.010358717292547226,
          1.1878206729888916,
          0.08127053827047348,
          0.7496877312660217,
          0.8942961692810059,
          91.01593780517578,
          94.87889862060547,
          95.61192321777344,
          93.52980041503906,
          98.31877136230469,
          98.59525299072266,
          0.01251318771392107,
          0.4629327058792114,
          0.3959284722805023,
          0.003913878928869963,
          0.006549804471433163,
          98.1153793334961,
          99.83401489257812,
          90.97583770751953,
          97.75424194335938,
          97.99032592773438,
          99.17125701904297,
          92.52349090576172,
          95.77286529541016,
          0.46227091550827026,
          95.39804077148438,
          99.63552856445312,
          98.65406036376953,
          97.77381134033203,
          98.74695587158203,
          0.10567713528871536,
          0.32017210125923157,
          99.22221374511719,
          77.41696166992188,
          97.0625,
          92.26884460449219,
          2.1517651081085205,
          1.546072006225586,
          0.039228327572345734,
          94.51576232910156,
          0.43852919340133667,
          89.07728576660156,
          98.65486145019531,
          99.83724975585938,
          99.62367248535156,
          97.20854187011719,
          0.0036248175892978907,
          7.32887077331543,
          0.006038207560777664,
          6.289421081542969,
          4.9881744384765625,
          0.0035871455911546946,
          90.3006591796875,
          0.5875763297080994,
          0.3510405421257019,
          0.00020978179236408323,
          1.229686975479126,
          1.2560513019561768,
          0.006611327175050974,
          0.00343386922031641,
          0.8538172841072083,
          98.42912292480469,
          0.1852869838476181,
          0.03292945772409439,
          0.03555546700954437,
          1.1920424699783325,
          1.1572344303131104,
          97.68387603759766,
          34.17497253417969,
          2.8834402561187744,
          5.976083278656006,
          0.3466545045375824,
          0.6849775910377502,
          2.2474262714385986,
          0.011041359044611454,
          98.5210952758789,
          10.667860984802246,
          97.75778198242188,
          98.41849517822266,
          97.16810607910156,
          77.4024429321289,
          94.10678100585938,
          0.5110331177711487,
          98.11799621582031,
          91.4926528930664,
          74.0057373046875,
          95.38504791259766,
          88.96380615234375,
          2.2858989238739014,
          82.97945404052734,
          84.2084732055664,
          86.2725830078125,
          3.2905116081237793,
          97.35322570800781,
          96.48294830322266,
          99.78595733642578,
          97.10868072509766,
          98.48644256591797,
          96.7297592163086,
          90.07538604736328,
          86.35459899902344,
          93.21302032470703,
          70.2323226928711,
          95.79240417480469,
          97.24021911621094,
          93.71478271484375,
          0.4395780563354492,
          99.73333740234375,
          2.391624689102173,
          0.8349332809448242,
          0.7950625419616699,
          6.78925895690918,
          3.062354803085327,
          98.2746810913086,
          93.87647247314453,
          0.8366342782974243,
          0.897650420665741,
          0.004267700482159853,
          0.0029992200434207916,
          0.8600645661354065,
          0.008031392470002174,
          0.944977343082428,
          1.5830762386322021,
          0.005498042795807123,
          0.0006162953213788569,
          0.00034068539389409125,
          92.20935821533203,
          0.005375498440116644,
          0.5492198467254639,
          1.1904035806655884,
          0.838234007358551,
          96.74569702148438,
          98.59893035888672,
          97.16893005371094,
          6.63763952255249,
          1.0110162496566772,
          0.07621806114912033,
          0.051582809537649155,
          0.2856900691986084,
          0.5050287842750549,
          0.2861228883266449,
          0.12567484378814697,
          97.57123565673828,
          98.91636657714844,
          89.00101470947266,
          0.5608291625976562,
          0.2372225821018219,
          96.54190826416016,
          97.36209869384766,
          97.65152740478516,
          97.75424194335938,
          94.81694793701172,
          86.86085510253906,
          90.87144470214844,
          92.08517456054688,
          91.99931335449219,
          95.20040130615234,
          7.49643087387085,
          97.27645874023438,
          2.033651828765869,
          4.477785587310791,
          1.7735153436660767,
          95.69133758544922,
          3.0351243019104004,
          98.3640365600586,
          99.78595733642578,
          96.29109954833984,
          98.90501403808594,
          84.39759063720703,
          79.14610290527344,
          3.258303165435791,
          2.3916256427764893,
          97.37776184082031,
          96.39942169189453,
          98.7557144165039,
          95.7171401977539,
          97.42765808105469,
          2.95358943939209,
          97.25601196289062,
          96.21525573730469,
          98.93199157714844,
          99.78096771240234,
          98.96721649169922,
          97.01859283447266,
          95.17772674560547,
          0.004814504645764828,
          0.0038138441741466522,
          0.0038220579735934734,
          1.2841055393218994,
          0.005594118032604456,
          0.001994919264689088,
          91.52008819580078,
          92.29833221435547,
          93.92080688476562,
          0.0002935633237939328,
          0.09057355672121048,
          0.002586925867944956,
          0.002965302439406514,
          97.95146942138672,
          1.4924979209899902,
          0.014032588340342045,
          0.033793672919273376,
          0.28529980778694153,
          55.647743225097656,
          18.907922744750977,
          89.84031677246094,
          91.94264221191406,
          94.9312973022461,
          1.1785409450531006,
          0.7527644038200378,
          0.27524685859680176,
          0.230499267578125,
          0.007080645300447941,
          0.46460646390914917,
          0.38771548867225647,
          98.2099380493164,
          97.56507110595703,
          95.65227508544922,
          97.68366241455078,
          97.60584259033203,
          0.8366342782974243,
          97.74242401123047,
          83.26929473876953,
          2.2005839347839355,
          95.90032958984375,
          2.6616427898406982,
          4.890274524688721,
          3.241452932357788,
          97.06233215332031,
          97.43547058105469,
          95.49798583984375,
          99.679931640625,
          97.5092544555664,
          97.22042846679688,
          98.23939514160156,
          91.97030639648438,
          0.3249727189540863,
          92.0342788696289,
          96.84910583496094,
          4.361037254333496,
          3.753941059112549,
          90.57087707519531,
          3.1295526027679443,
          2.2245192527770996,
          5.819904327392578,
          95.97710418701172,
          98.35806274414062,
          0.5088192224502563,
          98.78750610351562,
          99.80201721191406,
          99.20205688476562,
          92.095947265625,
          85.9411392211914,
          0.0003648636338766664,
          0.0031843276228755713,
          0.0010559458751231432,
          1.0781621932983398,
          1.0296130180358887,
          1.3230104446411133,
          0.00647491542622447,
          0.004007286392152309,
          0.0034518747124820948,
          5.6567230224609375,
          0.008209683932363987,
          0.005149875767529011,
          90.96571350097656,
          89.64490509033203,
          88.7386245727539,
          0.0018569518579170108,
          90.30941009521484,
          1.576279640197754,
          0.6428602337837219,
          0.20338624715805054,
          1.2259889841079712,
          1.093816876411438,
          0.007466665469110012,
          1.7594224214553833,
          2.7342851161956787,
          1.012494683265686,
          93.16741943359375,
          91.1968002319336,
          98.9300308227539,
          99.0141830444336,
          91.01795196533203,
          84.57917785644531,
          0.47177332639694214,
          97.35154724121094,
          0.538137674331665,
          0.8347541093826294,
          0.0032607163302600384,
          99.33731842041016,
          0.5086207985877991,
          13.269742965698242,
          91.26561737060547,
          2.442568778991699,
          92.94631958007812,
          99.36963653564453,
          97.46238708496094,
          98.56031036376953,
          97.88055419921875,
          97.82890319824219,
          97.9794692993164,
          98.76236724853516,
          98.53440856933594,
          99.7399673461914,
          92.45806121826172,
          91.21099090576172,
          96.88868713378906,
          17.406644821166992,
          0.7690929174423218,
          96.11392974853516,
          4.960285663604736,
          0.008540601469576359,
          0.7931169867515564,
          99.40674591064453,
          99.82341766357422,
          99.17083740234375,
          88.55946350097656,
          97.20198822021484,
          0.0016657505184412003,
          1.6524317264556885,
          0.002353084273636341,
          0.0030768143478780985,
          0.0030181340407580137,
          97.01840209960938,
          0.5633012652397156,
          0.5767176151275635,
          0.5574350953102112,
          0.0027569427620619535,
          64.40142059326172,
          90.96571350097656,
          92.48484802246094,
          0.05262111499905586,
          0.03772861883044243,
          71.0325927734375,
          0.9997369647026062,
          0.00023980112746357918,
          0.00022212738986127079,
          0.0003266353451181203,
          0.16872476041316986,
          94.21636199951172,
          0.01048887800425291,
          2.2055654525756836,
          0.13578344881534576,
          0.05075642094016075,
          91.85724639892578,
          76.85002899169922,
          92.89171600341797,
          90.7196044921875,
          94.9306869506836,
          97.6821517944336,
          0.023434173315763474,
          0.10839521139860153,
          0.43320903182029724,
          88.48212432861328,
          0.00021912391821388155,
          0.41698920726776123,
          0.6567630171775818,
          0.5358971357345581,
          99.51461791992188,
          98.93816375732422,
          96.67676544189453,
          89.74195861816406,
          0.5250197649002075,
          95.54232788085938,
          93.54095458984375,
          4.477785587310791,
          97.33417510986328,
          4.653873443603516,
          99.8445816040039,
          97.30025482177734,
          98.49958038330078,
          95.77265167236328,
          95.27547454833984,
          0.23293697834014893,
          85.37187194824219,
          22.829025268554688,
          94.6175537109375,
          3.0491442680358887,
          0.8812958598136902,
          0.41115108132362366,
          18.500986099243164,
          98.83594512939453,
          96.18147277832031,
          99.18587493896484,
          94.78251647949219,
          99.90888977050781
         ]
        }
       ],
       "layout": {
        "template": {
         "data": {
          "bar": [
           {
            "error_x": {
             "color": "#2a3f5f"
            },
            "error_y": {
             "color": "#2a3f5f"
            },
            "marker": {
             "line": {
              "color": "#E5ECF6",
              "width": 0.5
             },
             "pattern": {
              "fillmode": "overlay",
              "size": 10,
              "solidity": 0.2
             }
            },
            "type": "bar"
           }
          ],
          "barpolar": [
           {
            "marker": {
             "line": {
              "color": "#E5ECF6",
              "width": 0.5
             },
             "pattern": {
              "fillmode": "overlay",
              "size": 10,
              "solidity": 0.2
             }
            },
            "type": "barpolar"
           }
          ],
          "carpet": [
           {
            "aaxis": {
             "endlinecolor": "#2a3f5f",
             "gridcolor": "white",
             "linecolor": "white",
             "minorgridcolor": "white",
             "startlinecolor": "#2a3f5f"
            },
            "baxis": {
             "endlinecolor": "#2a3f5f",
             "gridcolor": "white",
             "linecolor": "white",
             "minorgridcolor": "white",
             "startlinecolor": "#2a3f5f"
            },
            "type": "carpet"
           }
          ],
          "choropleth": [
           {
            "colorbar": {
             "outlinewidth": 0,
             "ticks": ""
            },
            "type": "choropleth"
           }
          ],
          "contour": [
           {
            "colorbar": {
             "outlinewidth": 0,
             "ticks": ""
            },
            "colorscale": [
             [
              0,
              "#0d0887"
             ],
             [
              0.1111111111111111,
              "#46039f"
             ],
             [
              0.2222222222222222,
              "#7201a8"
             ],
             [
              0.3333333333333333,
              "#9c179e"
             ],
             [
              0.4444444444444444,
              "#bd3786"
             ],
             [
              0.5555555555555556,
              "#d8576b"
             ],
             [
              0.6666666666666666,
              "#ed7953"
             ],
             [
              0.7777777777777778,
              "#fb9f3a"
             ],
             [
              0.8888888888888888,
              "#fdca26"
             ],
             [
              1,
              "#f0f921"
             ]
            ],
            "type": "contour"
           }
          ],
          "contourcarpet": [
           {
            "colorbar": {
             "outlinewidth": 0,
             "ticks": ""
            },
            "type": "contourcarpet"
           }
          ],
          "heatmap": [
           {
            "colorbar": {
             "outlinewidth": 0,
             "ticks": ""
            },
            "colorscale": [
             [
              0,
              "#0d0887"
             ],
             [
              0.1111111111111111,
              "#46039f"
             ],
             [
              0.2222222222222222,
              "#7201a8"
             ],
             [
              0.3333333333333333,
              "#9c179e"
             ],
             [
              0.4444444444444444,
              "#bd3786"
             ],
             [
              0.5555555555555556,
              "#d8576b"
             ],
             [
              0.6666666666666666,
              "#ed7953"
             ],
             [
              0.7777777777777778,
              "#fb9f3a"
             ],
             [
              0.8888888888888888,
              "#fdca26"
             ],
             [
              1,
              "#f0f921"
             ]
            ],
            "type": "heatmap"
           }
          ],
          "heatmapgl": [
           {
            "colorbar": {
             "outlinewidth": 0,
             "ticks": ""
            },
            "colorscale": [
             [
              0,
              "#0d0887"
             ],
             [
              0.1111111111111111,
              "#46039f"
             ],
             [
              0.2222222222222222,
              "#7201a8"
             ],
             [
              0.3333333333333333,
              "#9c179e"
             ],
             [
              0.4444444444444444,
              "#bd3786"
             ],
             [
              0.5555555555555556,
              "#d8576b"
             ],
             [
              0.6666666666666666,
              "#ed7953"
             ],
             [
              0.7777777777777778,
              "#fb9f3a"
             ],
             [
              0.8888888888888888,
              "#fdca26"
             ],
             [
              1,
              "#f0f921"
             ]
            ],
            "type": "heatmapgl"
           }
          ],
          "histogram": [
           {
            "marker": {
             "pattern": {
              "fillmode": "overlay",
              "size": 10,
              "solidity": 0.2
             }
            },
            "type": "histogram"
           }
          ],
          "histogram2d": [
           {
            "colorbar": {
             "outlinewidth": 0,
             "ticks": ""
            },
            "colorscale": [
             [
              0,
              "#0d0887"
             ],
             [
              0.1111111111111111,
              "#46039f"
             ],
             [
              0.2222222222222222,
              "#7201a8"
             ],
             [
              0.3333333333333333,
              "#9c179e"
             ],
             [
              0.4444444444444444,
              "#bd3786"
             ],
             [
              0.5555555555555556,
              "#d8576b"
             ],
             [
              0.6666666666666666,
              "#ed7953"
             ],
             [
              0.7777777777777778,
              "#fb9f3a"
             ],
             [
              0.8888888888888888,
              "#fdca26"
             ],
             [
              1,
              "#f0f921"
             ]
            ],
            "type": "histogram2d"
           }
          ],
          "histogram2dcontour": [
           {
            "colorbar": {
             "outlinewidth": 0,
             "ticks": ""
            },
            "colorscale": [
             [
              0,
              "#0d0887"
             ],
             [
              0.1111111111111111,
              "#46039f"
             ],
             [
              0.2222222222222222,
              "#7201a8"
             ],
             [
              0.3333333333333333,
              "#9c179e"
             ],
             [
              0.4444444444444444,
              "#bd3786"
             ],
             [
              0.5555555555555556,
              "#d8576b"
             ],
             [
              0.6666666666666666,
              "#ed7953"
             ],
             [
              0.7777777777777778,
              "#fb9f3a"
             ],
             [
              0.8888888888888888,
              "#fdca26"
             ],
             [
              1,
              "#f0f921"
             ]
            ],
            "type": "histogram2dcontour"
           }
          ],
          "mesh3d": [
           {
            "colorbar": {
             "outlinewidth": 0,
             "ticks": ""
            },
            "type": "mesh3d"
           }
          ],
          "parcoords": [
           {
            "line": {
             "colorbar": {
              "outlinewidth": 0,
              "ticks": ""
             }
            },
            "type": "parcoords"
           }
          ],
          "pie": [
           {
            "automargin": true,
            "type": "pie"
           }
          ],
          "scatter": [
           {
            "fillpattern": {
             "fillmode": "overlay",
             "size": 10,
             "solidity": 0.2
            },
            "type": "scatter"
           }
          ],
          "scatter3d": [
           {
            "line": {
             "colorbar": {
              "outlinewidth": 0,
              "ticks": ""
             }
            },
            "marker": {
             "colorbar": {
              "outlinewidth": 0,
              "ticks": ""
             }
            },
            "type": "scatter3d"
           }
          ],
          "scattercarpet": [
           {
            "marker": {
             "colorbar": {
              "outlinewidth": 0,
              "ticks": ""
             }
            },
            "type": "scattercarpet"
           }
          ],
          "scattergeo": [
           {
            "marker": {
             "colorbar": {
              "outlinewidth": 0,
              "ticks": ""
             }
            },
            "type": "scattergeo"
           }
          ],
          "scattergl": [
           {
            "marker": {
             "colorbar": {
              "outlinewidth": 0,
              "ticks": ""
             }
            },
            "type": "scattergl"
           }
          ],
          "scattermapbox": [
           {
            "marker": {
             "colorbar": {
              "outlinewidth": 0,
              "ticks": ""
             }
            },
            "type": "scattermapbox"
           }
          ],
          "scatterpolar": [
           {
            "marker": {
             "colorbar": {
              "outlinewidth": 0,
              "ticks": ""
             }
            },
            "type": "scatterpolar"
           }
          ],
          "scatterpolargl": [
           {
            "marker": {
             "colorbar": {
              "outlinewidth": 0,
              "ticks": ""
             }
            },
            "type": "scatterpolargl"
           }
          ],
          "scatterternary": [
           {
            "marker": {
             "colorbar": {
              "outlinewidth": 0,
              "ticks": ""
             }
            },
            "type": "scatterternary"
           }
          ],
          "surface": [
           {
            "colorbar": {
             "outlinewidth": 0,
             "ticks": ""
            },
            "colorscale": [
             [
              0,
              "#0d0887"
             ],
             [
              0.1111111111111111,
              "#46039f"
             ],
             [
              0.2222222222222222,
              "#7201a8"
             ],
             [
              0.3333333333333333,
              "#9c179e"
             ],
             [
              0.4444444444444444,
              "#bd3786"
             ],
             [
              0.5555555555555556,
              "#d8576b"
             ],
             [
              0.6666666666666666,
              "#ed7953"
             ],
             [
              0.7777777777777778,
              "#fb9f3a"
             ],
             [
              0.8888888888888888,
              "#fdca26"
             ],
             [
              1,
              "#f0f921"
             ]
            ],
            "type": "surface"
           }
          ],
          "table": [
           {
            "cells": {
             "fill": {
              "color": "#EBF0F8"
             },
             "line": {
              "color": "white"
             }
            },
            "header": {
             "fill": {
              "color": "#C8D4E3"
             },
             "line": {
              "color": "white"
             }
            },
            "type": "table"
           }
          ]
         },
         "layout": {
          "annotationdefaults": {
           "arrowcolor": "#2a3f5f",
           "arrowhead": 0,
           "arrowwidth": 1
          },
          "autotypenumbers": "strict",
          "coloraxis": {
           "colorbar": {
            "outlinewidth": 0,
            "ticks": ""
           }
          },
          "colorscale": {
           "diverging": [
            [
             0,
             "#8e0152"
            ],
            [
             0.1,
             "#c51b7d"
            ],
            [
             0.2,
             "#de77ae"
            ],
            [
             0.3,
             "#f1b6da"
            ],
            [
             0.4,
             "#fde0ef"
            ],
            [
             0.5,
             "#f7f7f7"
            ],
            [
             0.6,
             "#e6f5d0"
            ],
            [
             0.7,
             "#b8e186"
            ],
            [
             0.8,
             "#7fbc41"
            ],
            [
             0.9,
             "#4d9221"
            ],
            [
             1,
             "#276419"
            ]
           ],
           "sequential": [
            [
             0,
             "#0d0887"
            ],
            [
             0.1111111111111111,
             "#46039f"
            ],
            [
             0.2222222222222222,
             "#7201a8"
            ],
            [
             0.3333333333333333,
             "#9c179e"
            ],
            [
             0.4444444444444444,
             "#bd3786"
            ],
            [
             0.5555555555555556,
             "#d8576b"
            ],
            [
             0.6666666666666666,
             "#ed7953"
            ],
            [
             0.7777777777777778,
             "#fb9f3a"
            ],
            [
             0.8888888888888888,
             "#fdca26"
            ],
            [
             1,
             "#f0f921"
            ]
           ],
           "sequentialminus": [
            [
             0,
             "#0d0887"
            ],
            [
             0.1111111111111111,
             "#46039f"
            ],
            [
             0.2222222222222222,
             "#7201a8"
            ],
            [
             0.3333333333333333,
             "#9c179e"
            ],
            [
             0.4444444444444444,
             "#bd3786"
            ],
            [
             0.5555555555555556,
             "#d8576b"
            ],
            [
             0.6666666666666666,
             "#ed7953"
            ],
            [
             0.7777777777777778,
             "#fb9f3a"
            ],
            [
             0.8888888888888888,
             "#fdca26"
            ],
            [
             1,
             "#f0f921"
            ]
           ]
          },
          "colorway": [
           "#636efa",
           "#EF553B",
           "#00cc96",
           "#ab63fa",
           "#FFA15A",
           "#19d3f3",
           "#FF6692",
           "#B6E880",
           "#FF97FF",
           "#FECB52"
          ],
          "font": {
           "color": "#2a3f5f"
          },
          "geo": {
           "bgcolor": "white",
           "lakecolor": "white",
           "landcolor": "#E5ECF6",
           "showlakes": true,
           "showland": true,
           "subunitcolor": "white"
          },
          "hoverlabel": {
           "align": "left"
          },
          "hovermode": "closest",
          "mapbox": {
           "style": "light"
          },
          "paper_bgcolor": "white",
          "plot_bgcolor": "#E5ECF6",
          "polar": {
           "angularaxis": {
            "gridcolor": "white",
            "linecolor": "white",
            "ticks": ""
           },
           "bgcolor": "#E5ECF6",
           "radialaxis": {
            "gridcolor": "white",
            "linecolor": "white",
            "ticks": ""
           }
          },
          "scene": {
           "xaxis": {
            "backgroundcolor": "#E5ECF6",
            "gridcolor": "white",
            "gridwidth": 2,
            "linecolor": "white",
            "showbackground": true,
            "ticks": "",
            "zerolinecolor": "white"
           },
           "yaxis": {
            "backgroundcolor": "#E5ECF6",
            "gridcolor": "white",
            "gridwidth": 2,
            "linecolor": "white",
            "showbackground": true,
            "ticks": "",
            "zerolinecolor": "white"
           },
           "zaxis": {
            "backgroundcolor": "#E5ECF6",
            "gridcolor": "white",
            "gridwidth": 2,
            "linecolor": "white",
            "showbackground": true,
            "ticks": "",
            "zerolinecolor": "white"
           }
          },
          "shapedefaults": {
           "line": {
            "color": "#2a3f5f"
           }
          },
          "ternary": {
           "aaxis": {
            "gridcolor": "white",
            "linecolor": "white",
            "ticks": ""
           },
           "baxis": {
            "gridcolor": "white",
            "linecolor": "white",
            "ticks": ""
           },
           "bgcolor": "#E5ECF6",
           "caxis": {
            "gridcolor": "white",
            "linecolor": "white",
            "ticks": ""
           }
          },
          "title": {
           "x": 0.05
          },
          "xaxis": {
           "automargin": true,
           "gridcolor": "white",
           "linecolor": "white",
           "ticks": "",
           "title": {
            "standoff": 15
           },
           "zerolinecolor": "white",
           "zerolinewidth": 2
          },
          "yaxis": {
           "automargin": true,
           "gridcolor": "white",
           "linecolor": "white",
           "ticks": "",
           "title": {
            "standoff": 15
           },
           "zerolinecolor": "white",
           "zerolinewidth": 2
          }
         }
        }
       }
      }
     },
     "metadata": {},
     "output_type": "display_data"
    }
   ],
   "source": [
    "fig = go.Figure(data=go.Scatter(\n",
    "    x = df['real_top'],\n",
    "    y = df['predicted_top'],\n",
    "    mode = 'markers',\n",
    "    hovertext = df['Index']  # this line adds the index as hover text\n",
    "))\n",
    "\n",
    "fig.show()"
   ]
  },
  {
   "cell_type": "code",
   "execution_count": 10,
   "metadata": {},
   "outputs": [],
   "source": [
    "feat_labels = ['Atomic number', 'Atom degree', 'Atom hybridization', 'Aromaticity', 'Atom in ring', 'Atom chirality', 'Molecule configuration']"
   ]
  },
  {
   "cell_type": "code",
   "execution_count": 11,
   "metadata": {},
   "outputs": [],
   "source": [
    "explainer = Explainer(\n",
    "    model=model,\n",
    "    algorithm=GNNExplainer(),\n",
    "    explanation_type='model',\n",
    "    node_mask_type='attributes',\n",
    "    edge_mask_type='object',\n",
    "    model_config=dict(\n",
    "        mode='regression',\n",
    "        task_level='graph',\n",
    "        return_type='raw',\n",
    "    ),\n",
    ")"
   ]
  },
  {
   "cell_type": "code",
   "execution_count": 12,
   "metadata": {},
   "outputs": [],
   "source": [
    "loader = DataLoader(test_loader.dataset)\n",
    "graph = next(iter(loader))"
   ]
  },
  {
   "cell_type": "code",
   "execution_count": 13,
   "metadata": {},
   "outputs": [],
   "source": [
    "explanation = explainer(x = graph.x, edge_index=graph.edge_index,  batch_index=graph.batch)"
   ]
  },
  {
   "cell_type": "code",
   "execution_count": 14,
   "metadata": {},
   "outputs": [
    {
     "name": "stderr",
     "output_type": "stream",
     "text": [
      "100%|██████████| 68/68 [00:06<00:00, 10.79it/s]\n"
     ]
    }
   ],
   "source": [
    "ligand_masks, substrate_masks, boron_masks, all_masks  = explain_dataset(test_loader.dataset, explainer, mol = 'ligand')"
   ]
  },
  {
   "cell_type": "code",
   "execution_count": 15,
   "metadata": {},
   "outputs": [
    {
     "data": {
      "text/html": [
       "<div>\n",
       "<style scoped>\n",
       "    .dataframe tbody tr th:only-of-type {\n",
       "        vertical-align: middle;\n",
       "    }\n",
       "\n",
       "    .dataframe tbody tr th {\n",
       "        vertical-align: top;\n",
       "    }\n",
       "\n",
       "    .dataframe thead th {\n",
       "        text-align: right;\n",
       "    }\n",
       "</style>\n",
       "<table border=\"1\" class=\"dataframe\">\n",
       "  <thead>\n",
       "    <tr style=\"text-align: right;\">\n",
       "      <th></th>\n",
       "      <th>score</th>\n",
       "      <th>labels</th>\n",
       "    </tr>\n",
       "  </thead>\n",
       "  <tbody>\n",
       "    <tr>\n",
       "      <th>Atom Degree</th>\n",
       "      <td>2936.027</td>\n",
       "      <td>Atom Degree</td>\n",
       "    </tr>\n",
       "    <tr>\n",
       "      <th>Atom Hybridization</th>\n",
       "      <td>2900.649</td>\n",
       "      <td>Atom Hybridization</td>\n",
       "    </tr>\n",
       "    <tr>\n",
       "      <th>Atom Identity</th>\n",
       "      <td>2892.616</td>\n",
       "      <td>Atom Identity</td>\n",
       "    </tr>\n",
       "    <tr>\n",
       "      <th>Atom Chirality</th>\n",
       "      <td>2863.689</td>\n",
       "      <td>Atom Chirality</td>\n",
       "    </tr>\n",
       "    <tr>\n",
       "      <th>System Configuration</th>\n",
       "      <td>1588.874</td>\n",
       "      <td>System Configuration</td>\n",
       "    </tr>\n",
       "    <tr>\n",
       "      <th>Atom InRing</th>\n",
       "      <td>970.647</td>\n",
       "      <td>Atom InRing</td>\n",
       "    </tr>\n",
       "    <tr>\n",
       "      <th>Atom Aromaticity</th>\n",
       "      <td>597.268</td>\n",
       "      <td>Atom Aromaticity</td>\n",
       "    </tr>\n",
       "  </tbody>\n",
       "</table>\n",
       "</div>"
      ],
      "text/plain": [
       "                         score                labels\n",
       "Atom Degree           2936.027           Atom Degree\n",
       "Atom Hybridization    2900.649    Atom Hybridization\n",
       "Atom Identity         2892.616         Atom Identity\n",
       "Atom Chirality        2863.689        Atom Chirality\n",
       "System Configuration  1588.874  System Configuration\n",
       "Atom InRing            970.647           Atom InRing\n",
       "Atom Aromaticity       597.268      Atom Aromaticity"
      ]
     },
     "execution_count": 15,
     "metadata": {},
     "output_type": "execute_result"
    }
   ],
   "source": [
    "all = visualize_score_features(score = all_masks)\n",
    "all"
   ]
  },
  {
   "cell_type": "code",
   "execution_count": 16,
   "metadata": {},
   "outputs": [
    {
     "data": {
      "text/html": [
       "<div>\n",
       "<style scoped>\n",
       "    .dataframe tbody tr th:only-of-type {\n",
       "        vertical-align: middle;\n",
       "    }\n",
       "\n",
       "    .dataframe tbody tr th {\n",
       "        vertical-align: top;\n",
       "    }\n",
       "\n",
       "    .dataframe thead th {\n",
       "        text-align: right;\n",
       "    }\n",
       "</style>\n",
       "<table border=\"1\" class=\"dataframe\">\n",
       "  <thead>\n",
       "    <tr style=\"text-align: right;\">\n",
       "      <th></th>\n",
       "      <th>score</th>\n",
       "      <th>labels</th>\n",
       "    </tr>\n",
       "  </thead>\n",
       "  <tbody>\n",
       "    <tr>\n",
       "      <th>Atom Degree</th>\n",
       "      <td>1529.308</td>\n",
       "      <td>L. Atom Degree</td>\n",
       "    </tr>\n",
       "    <tr>\n",
       "      <th>Atom Identity</th>\n",
       "      <td>1510.448</td>\n",
       "      <td>L. Atom Identity</td>\n",
       "    </tr>\n",
       "    <tr>\n",
       "      <th>Atom Hybridization</th>\n",
       "      <td>1503.827</td>\n",
       "      <td>L. Atom Hybridization</td>\n",
       "    </tr>\n",
       "    <tr>\n",
       "      <th>Atom Chirality</th>\n",
       "      <td>1485.783</td>\n",
       "      <td>L. Atom Chirality</td>\n",
       "    </tr>\n",
       "    <tr>\n",
       "      <th>System Configuration</th>\n",
       "      <td>841.835</td>\n",
       "      <td>L. System Configuration</td>\n",
       "    </tr>\n",
       "    <tr>\n",
       "      <th>Atom InRing</th>\n",
       "      <td>564.379</td>\n",
       "      <td>L. Atom InRing</td>\n",
       "    </tr>\n",
       "    <tr>\n",
       "      <th>Atom Aromaticity</th>\n",
       "      <td>297.697</td>\n",
       "      <td>L. Atom Aromaticity</td>\n",
       "    </tr>\n",
       "  </tbody>\n",
       "</table>\n",
       "</div>"
      ],
      "text/plain": [
       "                         score                   labels\n",
       "Atom Degree           1529.308           L. Atom Degree\n",
       "Atom Identity         1510.448         L. Atom Identity\n",
       "Atom Hybridization    1503.827    L. Atom Hybridization\n",
       "Atom Chirality        1485.783        L. Atom Chirality\n",
       "System Configuration   841.835  L. System Configuration\n",
       "Atom InRing            564.379           L. Atom InRing\n",
       "Atom Aromaticity       297.697      L. Atom Aromaticity"
      ]
     },
     "execution_count": 16,
     "metadata": {},
     "output_type": "execute_result"
    }
   ],
   "source": [
    "ligands = visualize_score_features(score = ligand_masks)\n",
    "ligands = ligands.loc[ligands['score'] != 0]\n",
    "ligands['labels'] = ligands['labels'].apply(lambda m: 'L. '+m)\n",
    "ligands"
   ]
  },
  {
   "cell_type": "code",
   "execution_count": 17,
   "metadata": {},
   "outputs": [
    {
     "data": {
      "text/html": [
       "<div>\n",
       "<style scoped>\n",
       "    .dataframe tbody tr th:only-of-type {\n",
       "        vertical-align: middle;\n",
       "    }\n",
       "\n",
       "    .dataframe tbody tr th {\n",
       "        vertical-align: top;\n",
       "    }\n",
       "\n",
       "    .dataframe thead th {\n",
       "        text-align: right;\n",
       "    }\n",
       "</style>\n",
       "<table border=\"1\" class=\"dataframe\">\n",
       "  <thead>\n",
       "    <tr style=\"text-align: right;\">\n",
       "      <th></th>\n",
       "      <th>score</th>\n",
       "      <th>labels</th>\n",
       "    </tr>\n",
       "  </thead>\n",
       "  <tbody>\n",
       "    <tr>\n",
       "      <th>Atom Hybridization</th>\n",
       "      <td>764.628</td>\n",
       "      <td>S. Atom Hybridization</td>\n",
       "    </tr>\n",
       "    <tr>\n",
       "      <th>Atom Identity</th>\n",
       "      <td>760.119</td>\n",
       "      <td>S. Atom Identity</td>\n",
       "    </tr>\n",
       "    <tr>\n",
       "      <th>Atom Degree</th>\n",
       "      <td>756.051</td>\n",
       "      <td>S. Atom Degree</td>\n",
       "    </tr>\n",
       "    <tr>\n",
       "      <th>Atom Chirality</th>\n",
       "      <td>748.978</td>\n",
       "      <td>S. Atom Chirality</td>\n",
       "    </tr>\n",
       "    <tr>\n",
       "      <th>System Configuration</th>\n",
       "      <td>408.505</td>\n",
       "      <td>S. System Configuration</td>\n",
       "    </tr>\n",
       "    <tr>\n",
       "      <th>Atom InRing</th>\n",
       "      <td>165.758</td>\n",
       "      <td>S. Atom InRing</td>\n",
       "    </tr>\n",
       "    <tr>\n",
       "      <th>Atom Aromaticity</th>\n",
       "      <td>72.039</td>\n",
       "      <td>S. Atom Aromaticity</td>\n",
       "    </tr>\n",
       "  </tbody>\n",
       "</table>\n",
       "</div>"
      ],
      "text/plain": [
       "                        score                   labels\n",
       "Atom Hybridization    764.628    S. Atom Hybridization\n",
       "Atom Identity         760.119         S. Atom Identity\n",
       "Atom Degree           756.051           S. Atom Degree\n",
       "Atom Chirality        748.978        S. Atom Chirality\n",
       "System Configuration  408.505  S. System Configuration\n",
       "Atom InRing           165.758           S. Atom InRing\n",
       "Atom Aromaticity       72.039      S. Atom Aromaticity"
      ]
     },
     "execution_count": 17,
     "metadata": {},
     "output_type": "execute_result"
    }
   ],
   "source": [
    "substrate = visualize_score_features(score = substrate_masks)\n",
    "substrate = substrate.loc[substrate['score'] != 0]\n",
    "substrate['labels'] = substrate['labels'].apply(lambda m: 'S. '+m)\n",
    "substrate"
   ]
  },
  {
   "cell_type": "code",
   "execution_count": 18,
   "metadata": {},
   "outputs": [
    {
     "data": {
      "text/html": [
       "<div>\n",
       "<style scoped>\n",
       "    .dataframe tbody tr th:only-of-type {\n",
       "        vertical-align: middle;\n",
       "    }\n",
       "\n",
       "    .dataframe tbody tr th {\n",
       "        vertical-align: top;\n",
       "    }\n",
       "\n",
       "    .dataframe thead th {\n",
       "        text-align: right;\n",
       "    }\n",
       "</style>\n",
       "<table border=\"1\" class=\"dataframe\">\n",
       "  <thead>\n",
       "    <tr style=\"text-align: right;\">\n",
       "      <th></th>\n",
       "      <th>score</th>\n",
       "      <th>labels</th>\n",
       "    </tr>\n",
       "  </thead>\n",
       "  <tbody>\n",
       "    <tr>\n",
       "      <th>Atom Degree</th>\n",
       "      <td>650.671</td>\n",
       "      <td>BR. Atom Degree</td>\n",
       "    </tr>\n",
       "    <tr>\n",
       "      <th>Atom Hybridization</th>\n",
       "      <td>632.196</td>\n",
       "      <td>BR. Atom Hybridization</td>\n",
       "    </tr>\n",
       "    <tr>\n",
       "      <th>Atom Chirality</th>\n",
       "      <td>628.928</td>\n",
       "      <td>BR. Atom Chirality</td>\n",
       "    </tr>\n",
       "    <tr>\n",
       "      <th>Atom Identity</th>\n",
       "      <td>622.045</td>\n",
       "      <td>BR. Atom Identity</td>\n",
       "    </tr>\n",
       "    <tr>\n",
       "      <th>System Configuration</th>\n",
       "      <td>338.534</td>\n",
       "      <td>BR. System Configuration</td>\n",
       "    </tr>\n",
       "    <tr>\n",
       "      <th>Atom InRing</th>\n",
       "      <td>240.509</td>\n",
       "      <td>BR. Atom InRing</td>\n",
       "    </tr>\n",
       "    <tr>\n",
       "      <th>Atom Aromaticity</th>\n",
       "      <td>227.531</td>\n",
       "      <td>BR. Atom Aromaticity</td>\n",
       "    </tr>\n",
       "  </tbody>\n",
       "</table>\n",
       "</div>"
      ],
      "text/plain": [
       "                        score                    labels\n",
       "Atom Degree           650.671           BR. Atom Degree\n",
       "Atom Hybridization    632.196    BR. Atom Hybridization\n",
       "Atom Chirality        628.928        BR. Atom Chirality\n",
       "Atom Identity         622.045         BR. Atom Identity\n",
       "System Configuration  338.534  BR. System Configuration\n",
       "Atom InRing           240.509           BR. Atom InRing\n",
       "Atom Aromaticity      227.531      BR. Atom Aromaticity"
      ]
     },
     "execution_count": 18,
     "metadata": {},
     "output_type": "execute_result"
    }
   ],
   "source": [
    "boron = visualize_score_features(score = boron_masks)\n",
    "boron = boron.loc[boron['score'] != 0]\n",
    "boron['labels'] = boron['labels'].apply(lambda m: 'BR. '+m)\n",
    "boron"
   ]
  },
  {
   "cell_type": "code",
   "execution_count": 19,
   "metadata": {},
   "outputs": [],
   "source": [
    "df = pd.concat([ligands, substrate, boron])\n",
    "df = df.sort_values('score', ascending=False)\n",
    "df['score'] = df['score'].astype(int)"
   ]
  },
  {
   "cell_type": "code",
   "execution_count": 20,
   "metadata": {},
   "outputs": [
    {
     "data": {
      "text/html": [
       "<div>\n",
       "<style scoped>\n",
       "    .dataframe tbody tr th:only-of-type {\n",
       "        vertical-align: middle;\n",
       "    }\n",
       "\n",
       "    .dataframe tbody tr th {\n",
       "        vertical-align: top;\n",
       "    }\n",
       "\n",
       "    .dataframe thead th {\n",
       "        text-align: right;\n",
       "    }\n",
       "</style>\n",
       "<table border=\"1\" class=\"dataframe\">\n",
       "  <thead>\n",
       "    <tr style=\"text-align: right;\">\n",
       "      <th></th>\n",
       "      <th>score</th>\n",
       "      <th>labels</th>\n",
       "    </tr>\n",
       "  </thead>\n",
       "  <tbody>\n",
       "    <tr>\n",
       "      <th>Atom Degree</th>\n",
       "      <td>1529</td>\n",
       "      <td>L. Atom Degree</td>\n",
       "    </tr>\n",
       "    <tr>\n",
       "      <th>Atom Identity</th>\n",
       "      <td>1510</td>\n",
       "      <td>L. Atom Identity</td>\n",
       "    </tr>\n",
       "    <tr>\n",
       "      <th>Atom Hybridization</th>\n",
       "      <td>1503</td>\n",
       "      <td>L. Atom Hybridization</td>\n",
       "    </tr>\n",
       "    <tr>\n",
       "      <th>Atom Chirality</th>\n",
       "      <td>1485</td>\n",
       "      <td>L. Atom Chirality</td>\n",
       "    </tr>\n",
       "    <tr>\n",
       "      <th>System Configuration</th>\n",
       "      <td>841</td>\n",
       "      <td>L. System Configuration</td>\n",
       "    </tr>\n",
       "    <tr>\n",
       "      <th>Atom Hybridization</th>\n",
       "      <td>764</td>\n",
       "      <td>S. Atom Hybridization</td>\n",
       "    </tr>\n",
       "    <tr>\n",
       "      <th>Atom Identity</th>\n",
       "      <td>760</td>\n",
       "      <td>S. Atom Identity</td>\n",
       "    </tr>\n",
       "    <tr>\n",
       "      <th>Atom Degree</th>\n",
       "      <td>756</td>\n",
       "      <td>S. Atom Degree</td>\n",
       "    </tr>\n",
       "    <tr>\n",
       "      <th>Atom Chirality</th>\n",
       "      <td>748</td>\n",
       "      <td>S. Atom Chirality</td>\n",
       "    </tr>\n",
       "    <tr>\n",
       "      <th>Atom Degree</th>\n",
       "      <td>650</td>\n",
       "      <td>BR. Atom Degree</td>\n",
       "    </tr>\n",
       "    <tr>\n",
       "      <th>Atom Hybridization</th>\n",
       "      <td>632</td>\n",
       "      <td>BR. Atom Hybridization</td>\n",
       "    </tr>\n",
       "    <tr>\n",
       "      <th>Atom Chirality</th>\n",
       "      <td>628</td>\n",
       "      <td>BR. Atom Chirality</td>\n",
       "    </tr>\n",
       "    <tr>\n",
       "      <th>Atom Identity</th>\n",
       "      <td>622</td>\n",
       "      <td>BR. Atom Identity</td>\n",
       "    </tr>\n",
       "    <tr>\n",
       "      <th>Atom InRing</th>\n",
       "      <td>564</td>\n",
       "      <td>L. Atom InRing</td>\n",
       "    </tr>\n",
       "    <tr>\n",
       "      <th>System Configuration</th>\n",
       "      <td>408</td>\n",
       "      <td>S. System Configuration</td>\n",
       "    </tr>\n",
       "    <tr>\n",
       "      <th>System Configuration</th>\n",
       "      <td>338</td>\n",
       "      <td>BR. System Configuration</td>\n",
       "    </tr>\n",
       "    <tr>\n",
       "      <th>Atom Aromaticity</th>\n",
       "      <td>297</td>\n",
       "      <td>L. Atom Aromaticity</td>\n",
       "    </tr>\n",
       "    <tr>\n",
       "      <th>Atom InRing</th>\n",
       "      <td>240</td>\n",
       "      <td>BR. Atom InRing</td>\n",
       "    </tr>\n",
       "    <tr>\n",
       "      <th>Atom Aromaticity</th>\n",
       "      <td>227</td>\n",
       "      <td>BR. Atom Aromaticity</td>\n",
       "    </tr>\n",
       "    <tr>\n",
       "      <th>Atom InRing</th>\n",
       "      <td>165</td>\n",
       "      <td>S. Atom InRing</td>\n",
       "    </tr>\n",
       "    <tr>\n",
       "      <th>Atom Aromaticity</th>\n",
       "      <td>72</td>\n",
       "      <td>S. Atom Aromaticity</td>\n",
       "    </tr>\n",
       "  </tbody>\n",
       "</table>\n",
       "</div>"
      ],
      "text/plain": [
       "                      score                    labels\n",
       "Atom Degree            1529            L. Atom Degree\n",
       "Atom Identity          1510          L. Atom Identity\n",
       "Atom Hybridization     1503     L. Atom Hybridization\n",
       "Atom Chirality         1485         L. Atom Chirality\n",
       "System Configuration    841   L. System Configuration\n",
       "Atom Hybridization      764     S. Atom Hybridization\n",
       "Atom Identity           760          S. Atom Identity\n",
       "Atom Degree             756            S. Atom Degree\n",
       "Atom Chirality          748         S. Atom Chirality\n",
       "Atom Degree             650           BR. Atom Degree\n",
       "Atom Hybridization      632    BR. Atom Hybridization\n",
       "Atom Chirality          628        BR. Atom Chirality\n",
       "Atom Identity           622         BR. Atom Identity\n",
       "Atom InRing             564            L. Atom InRing\n",
       "System Configuration    408   S. System Configuration\n",
       "System Configuration    338  BR. System Configuration\n",
       "Atom Aromaticity        297       L. Atom Aromaticity\n",
       "Atom InRing             240           BR. Atom InRing\n",
       "Atom Aromaticity        227      BR. Atom Aromaticity\n",
       "Atom InRing             165            S. Atom InRing\n",
       "Atom Aromaticity         72       S. Atom Aromaticity"
      ]
     },
     "execution_count": 20,
     "metadata": {},
     "output_type": "execute_result"
    }
   ],
   "source": [
    "df"
   ]
  },
  {
   "cell_type": "code",
   "execution_count": 21,
   "metadata": {},
   "outputs": [
    {
     "data": {
      "image/png": "[encoded data removed]",
      "text/plain": [
       "<Figure size 1800x1200 with 1 Axes>"
      ]
     },
     "metadata": {
      "needs_background": "light"
     },
     "output_type": "display_data"
    }
   ],
   "source": [
    "plt.figure(dpi=300)\n",
    "\n",
    "ax = sns.barplot(df, x=\"score\", y=\"labels\", estimator=\"sum\", errorbar=None)\n",
    "ax.bar_label(ax.containers[0], fontsize=10)\n",
    "#ax.set_yticklabels(ax.get_yticklabels(), verticalalignment='center', horizontalalignment='right')\n",
    "\n",
    "plt.xlabel('Feature Importance Score', fontsize=16)\n",
    "plt.ylabel('Feature', fontsize=16)\n",
    "\n",
    "plt.show()"
   ]
  },
  {
   "cell_type": "code",
   "execution_count": 21,
   "metadata": {},
   "outputs": [],
   "source": [
    "explainer = Explainer(\n",
    "    model=model,\n",
    "    algorithm=CaptumExplainer('ShapleyValueSampling'),\n",
    "    explanation_type='model',\n",
    "    node_mask_type='attributes',\n",
    "    edge_mask_type='object',\n",
    "    model_config=dict(\n",
    "        mode='regression',\n",
    "        task_level='graph',\n",
    "        return_type='raw',\n",
    "    ),\n",
    ")"
   ]
  },
  {
   "cell_type": "code",
   "execution_count": 22,
   "metadata": {},
   "outputs": [
    {
     "data": {
      "image/png": "[encoded data removed]",
      "text/plain": [
       "<rdkit.Chem.rdchem.Mol at 0x17fd99f90>"
      ]
     },
     "execution_count": 22,
     "metadata": {},
     "output_type": "execute_result"
    }
   ],
   "source": [
    "loader = DataLoader(loader_all.dataset)\n",
    "molecule = get_graph_by_idx(loader, 98)\n",
    "Chem.MolFromSmiles(molecule.ligand[0])"
   ]
  },
  {
   "cell_type": "code",
   "execution_count": 23,
   "metadata": {},
   "outputs": [
    {
     "data": {
      "text/plain": [
       "tensor([92.5000])"
      ]
     },
     "execution_count": 23,
     "metadata": {},
     "output_type": "execute_result"
    }
   ],
   "source": [
    "molecule.y"
   ]
  },
  {
   "cell_type": "code",
   "execution_count": 24,
   "metadata": {},
   "outputs": [
    {
     "data": {
      "text/plain": [
       "tensor([[90.9657]], grad_fn=<MulBackward0>)"
      ]
     },
     "execution_count": 24,
     "metadata": {},
     "output_type": "execute_result"
    }
   ],
   "source": [
    "model(x = molecule.x, edge_index=molecule.edge_index,  batch_index=molecule.batch)"
   ]
  },
  {
   "cell_type": "code",
   "execution_count": 25,
   "metadata": {},
   "outputs": [],
   "source": [
    "explanation = explainer(x = molecule.x, edge_index=molecule.edge_index,  batch_index=molecule.batch)"
   ]
  },
  {
   "cell_type": "code",
   "execution_count": 26,
   "metadata": {},
   "outputs": [
    {
     "data": {
      "application/vnd.plotly.v1+json": {
       "config": {
        "plotlyServerURL": "https://plot.ly"
       },
       "data": [
        {
         "legendgroup": "Atoms",
         "marker": {
          "color": "black",
          "size": 8.625,
          "symbol": "circle"
         },
         "mode": "markers",
         "showlegend": false,
         "text": "atom C",
         "type": "scatter3d",
         "x": [
          4.227554491149118
         ],
         "y": [
          -1.3785388036711388
         ],
         "z": [
          -0.8790393281252091
         ]
        },
        {
         "legendgroup": "Atoms",
         "marker": {
          "color": "red",
          "size": 8.25,
          "symbol": "circle"
         },
         "mode": "markers",
         "showlegend": false,
         "text": "atom O",
         "type": "scatter3d",
         "x": [
          3.1825887924405345
         ],
         "y": [
          -0.6570486738399294
         ],
         "z": [
          -1.4482724565861167
         ]
        },
        {
         "legendgroup": "Atoms",
         "marker": {
          "color": "black",
          "size": 8.625,
          "symbol": "circle"
         },
         "mode": "markers",
         "showlegend": false,
         "text": "atom C",
         "type": "scatter3d",
         "x": [
          2.6856433615357718
         ],
         "y": [
          0.24346056344836647
         ],
         "z": [
          -0.509150564394016
         ]
        },
        {
         "legendgroup": "Atoms",
         "marker": {
          "color": "black",
          "size": 8.625,
          "symbol": "circle"
         },
         "mode": "markers",
         "showlegend": false,
         "text": "atom C",
         "type": "scatter3d",
         "x": [
          3.7180136830341812
         ],
         "y": [
          1.2212334721786713
         ],
         "z": [
          -0.036605933900683514
         ]
        },
        {
         "legendgroup": "Atoms",
         "marker": {
          "color": "black",
          "size": 8.625,
          "symbol": "circle"
         },
         "mode": "markers",
         "showlegend": false,
         "text": "atom C",
         "type": "scatter3d",
         "x": [
          2.02651395936015
         ],
         "y": [
          -0.5308411982456098
         ],
         "z": [
          0.5787981630410896
         ]
        },
        {
         "legendgroup": "Atoms",
         "marker": {
          "color": "black",
          "size": 8.625,
          "symbol": "circle"
         },
         "mode": "markers",
         "showlegend": false,
         "text": "atom C",
         "type": "scatter3d",
         "x": [
          0.6909129801410049
         ],
         "y": [
          0.13580120436757812
         ],
         "z": [
          1.0300639926141604
         ]
        },
        {
         "legendgroup": "Atoms",
         "marker": {
          "color": "black",
          "size": 8.625,
          "symbol": "circle"
         },
         "mode": "markers",
         "showlegend": false,
         "text": "atom C",
         "type": "scatter3d",
         "x": [
          0.3228479913591989
         ],
         "y": [
          -0.3998212085421933
         ],
         "z": [
          2.341602914276945
         ]
        },
        {
         "legendgroup": "Atoms",
         "marker": {
          "color": "black",
          "size": 8.625,
          "symbol": "circle"
         },
         "mode": "markers",
         "showlegend": false,
         "text": "atom C",
         "type": "scatter3d",
         "x": [
          1.0511740907975533
         ],
         "y": [
          1.6093891276465784
         ],
         "z": [
          1.0265914914945884
         ]
        },
        {
         "legendgroup": "Atoms",
         "marker": {
          "color": "black",
          "size": 8.625,
          "symbol": "circle"
         },
         "mode": "markers",
         "showlegend": false,
         "text": "atom C",
         "type": "scatter3d",
         "x": [
          1.1956101384794469
         ],
         "y": [
          2.0908348057340302
         ],
         "z": [
          -0.23268470182962375
         ]
        },
        {
         "legendgroup": "Atoms",
         "marker": {
          "color": "black",
          "size": 8.625,
          "symbol": "circle"
         },
         "mode": "markers",
         "showlegend": false,
         "text": "atom C",
         "type": "scatter3d",
         "x": [
          1.5903551174669963
         ],
         "y": [
          1.0400395662326698
         ],
         "z": [
          -1.2287343976669076
         ]
        },
        {
         "legendgroup": "Atoms",
         "marker": {
          "color": "black",
          "size": 8.625,
          "symbol": "circle"
         },
         "mode": "markers",
         "showlegend": false,
         "text": "atom C",
         "type": "scatter3d",
         "x": [
          0.43518385729535863
         ],
         "y": [
          0.05614311291027773
         ],
         "z": [
          -1.2745356929756122
         ]
        },
        {
         "legendgroup": "Atoms",
         "marker": {
          "color": "black",
          "size": 8.625,
          "symbol": "circle"
         },
         "mode": "markers",
         "showlegend": false,
         "text": "atom C",
         "type": "scatter3d",
         "x": [
          -0.2437495311788689
         ],
         "y": [
          0.00011222821233419973
         ],
         "z": [
          -0.1014468086019305
         ]
        },
        {
         "legendgroup": "Atoms",
         "marker": {
          "color": "black",
          "size": 8.625,
          "symbol": "circle"
         },
         "mode": "markers",
         "showlegend": false,
         "text": "atom C",
         "type": "scatter3d",
         "x": [
          -1.6656893385895049
         ],
         "y": [
          -0.16432546009139165
         ],
         "z": [
          -0.08846940687475921
         ]
        },
        {
         "legendgroup": "Atoms",
         "marker": {
          "color": "black",
          "size": 8.625,
          "symbol": "circle"
         },
         "mode": "markers",
         "showlegend": false,
         "text": "atom C",
         "type": "scatter3d",
         "x": [
          -2.357714486013864
         ],
         "y": [
          -0.36191838365183315
         ],
         "z": [
          -1.2863119617595402
         ]
        },
        {
         "legendgroup": "Atoms",
         "marker": {
          "color": "black",
          "size": 8.625,
          "symbol": "circle"
         },
         "mode": "markers",
         "showlegend": false,
         "text": "atom C",
         "type": "scatter3d",
         "x": [
          -3.729271416733296
         ],
         "y": [
          -0.5043852994726982
         ],
         "z": [
          -1.3428782659429062
         ]
        },
        {
         "legendgroup": "Atoms",
         "marker": {
          "color": "black",
          "size": 8.625,
          "symbol": "circle"
         },
         "mode": "markers",
         "showlegend": false,
         "text": "atom C",
         "type": "scatter3d",
         "x": [
          -4.488732515807669
         ],
         "y": [
          -0.4571277153563286
         ],
         "z": [
          -0.20259031734726105
         ]
        },
        {
         "legendgroup": "Atoms",
         "marker": {
          "color": "black",
          "size": 8.625,
          "symbol": "circle"
         },
         "mode": "markers",
         "showlegend": false,
         "text": "atom C",
         "type": "scatter3d",
         "x": [
          -5.982660027482429
         ],
         "y": [
          -0.6092925277808511
         ],
         "z": [
          -0.23218881529968366
         ]
        },
        {
         "legendgroup": "Atoms",
         "marker": {
          "color": "pink",
          "size": 8,
          "symbol": "circle"
         },
         "mode": "markers",
         "showlegend": false,
         "text": "atom F",
         "type": "scatter3d",
         "x": [
          -6.580182674444929
         ],
         "y": [
          0.6137524427338908
         ],
         "z": [
          -0.48977153364501036
         ]
        },
        {
         "legendgroup": "Atoms",
         "marker": {
          "color": "pink",
          "size": 8,
          "symbol": "circle"
         },
         "mode": "markers",
         "showlegend": false,
         "text": "atom F",
         "type": "scatter3d",
         "x": [
          -6.367674892322727
         ],
         "y": [
          -1.0330237811041172
         ],
         "z": [
          1.0235211162564661
         ]
        },
        {
         "legendgroup": "Atoms",
         "marker": {
          "color": "pink",
          "size": 8,
          "symbol": "circle"
         },
         "mode": "markers",
         "showlegend": false,
         "text": "atom F",
         "type": "scatter3d",
         "x": [
          -6.365915456756511
         ],
         "y": [
          -1.5778207577323466
         ],
         "z": [
          -1.1334239315376755
         ]
        },
        {
         "legendgroup": "Atoms",
         "marker": {
          "color": "black",
          "size": 8.625,
          "symbol": "circle"
         },
         "mode": "markers",
         "showlegend": false,
         "text": "atom C",
         "type": "scatter3d",
         "x": [
          -3.8435815200861083
         ],
         "y": [
          -0.26359041962828667
         ],
         "z": [
          0.9954329759730757
         ]
        },
        {
         "legendgroup": "Atoms",
         "marker": {
          "color": "black",
          "size": 8.625,
          "symbol": "circle"
         },
         "mode": "markers",
         "showlegend": false,
         "text": "atom C",
         "type": "scatter3d",
         "x": [
          -2.4471761886298893
         ],
         "y": [
          -0.12039915247470456
         ],
         "z": [
          1.0331347187481583
         ]
        },
        {
         "legendgroup": "Atoms",
         "marker": {
          "color": "lightgray",
          "size": 3.875,
          "symbol": "circle"
         },
         "mode": "markers",
         "showlegend": false,
         "text": "atom H",
         "type": "scatter3d",
         "x": [
          3.9081263471432077
         ],
         "y": [
          -1.9519513679950147
         ],
         "z": [
          0.014610194148773457
         ]
        },
        {
         "legendgroup": "Atoms",
         "marker": {
          "color": "lightgray",
          "size": 3.875,
          "symbol": "circle"
         },
         "mode": "markers",
         "showlegend": false,
         "text": "atom H",
         "type": "scatter3d",
         "x": [
          4.628667545199277
         ],
         "y": [
          -2.111791611295648
         ],
         "z": [
          -1.6093683916586137
         ]
        },
        {
         "legendgroup": "Atoms",
         "marker": {
          "color": "lightgray",
          "size": 3.875,
          "symbol": "circle"
         },
         "mode": "markers",
         "showlegend": false,
         "text": "atom H",
         "type": "scatter3d",
         "x": [
          5.0605738635295126
         ],
         "y": [
          -0.696275355648892
         ],
         "z": [
          -0.6278349252952908
         ]
        },
        {
         "legendgroup": "Atoms",
         "marker": {
          "color": "lightgray",
          "size": 3.875,
          "symbol": "circle"
         },
         "mode": "markers",
         "showlegend": false,
         "text": "atom H",
         "type": "scatter3d",
         "x": [
          4.081678819064901
         ],
         "y": [
          0.9912928930634535
         ],
         "z": [
          0.9817791389349527
         ]
        },
        {
         "legendgroup": "Atoms",
         "marker": {
          "color": "lightgray",
          "size": 3.875,
          "symbol": "circle"
         },
         "mode": "markers",
         "showlegend": false,
         "text": "atom H",
         "type": "scatter3d",
         "x": [
          3.3048877251762763
         ],
         "y": [
          2.2672065649193875
         ],
         "z": [
          0.014259556930670098
         ]
        },
        {
         "legendgroup": "Atoms",
         "marker": {
          "color": "lightgray",
          "size": 3.875,
          "symbol": "circle"
         },
         "mode": "markers",
         "showlegend": false,
         "text": "atom H",
         "type": "scatter3d",
         "x": [
          4.541476070522775
         ],
         "y": [
          1.2727037107320536
         ],
         "z": [
          -0.7846820775759987
         ]
        },
        {
         "legendgroup": "Atoms",
         "marker": {
          "color": "lightgray",
          "size": 3.875,
          "symbol": "circle"
         },
         "mode": "markers",
         "showlegend": false,
         "text": "atom H",
         "type": "scatter3d",
         "x": [
          2.6709246251251915
         ],
         "y": [
          -0.4783835313876061
         ],
         "z": [
          1.4898406261852932
         ]
        },
        {
         "legendgroup": "Atoms",
         "marker": {
          "color": "lightgray",
          "size": 3.875,
          "symbol": "circle"
         },
         "mode": "markers",
         "showlegend": false,
         "text": "atom H",
         "type": "scatter3d",
         "x": [
          1.8657504018895197
         ],
         "y": [
          -1.5866671792038254
         ],
         "z": [
          0.35016286084790965
         ]
        },
        {
         "legendgroup": "Atoms",
         "marker": {
          "color": "lightgray",
          "size": 3.875,
          "symbol": "circle"
         },
         "mode": "markers",
         "showlegend": false,
         "text": "atom H",
         "type": "scatter3d",
         "x": [
          -0.25120057021234804
         ],
         "y": [
          -1.3235596961935925
         ],
         "z": [
          2.3560971212743205
         ]
        },
        {
         "legendgroup": "Atoms",
         "marker": {
          "color": "lightgray",
          "size": 3.875,
          "symbol": "circle"
         },
         "mode": "markers",
         "showlegend": false,
         "text": "atom H",
         "type": "scatter3d",
         "x": [
          -0.0302578022108265
         ],
         "y": [
          0.4043599033497138
         ],
         "z": [
          3.0366838959407065
         ]
        },
        {
         "legendgroup": "Atoms",
         "marker": {
          "color": "lightgray",
          "size": 3.875,
          "symbol": "circle"
         },
         "mode": "markers",
         "showlegend": false,
         "text": "atom H",
         "type": "scatter3d",
         "x": [
          1.3093787402016315
         ],
         "y": [
          -0.706746476946147
         ],
         "z": [
          2.8555003710506477
         ]
        },
        {
         "legendgroup": "Atoms",
         "marker": {
          "color": "lightgray",
          "size": 3.875,
          "symbol": "circle"
         },
         "mode": "markers",
         "showlegend": false,
         "text": "atom H",
         "type": "scatter3d",
         "x": [
          1.1749186841992918
         ],
         "y": [
          2.1932599385789144
         ],
         "z": [
          1.9089223102975483
         ]
        },
        {
         "legendgroup": "Atoms",
         "marker": {
          "color": "lightgray",
          "size": 3.875,
          "symbol": "circle"
         },
         "mode": "markers",
         "showlegend": false,
         "text": "atom H",
         "type": "scatter3d",
         "x": [
          1.0459022861959355
         ],
         "y": [
          3.117434412082573
         ],
         "z": [
          -0.5031523247577558
         ]
        },
        {
         "legendgroup": "Atoms",
         "marker": {
          "color": "lightgray",
          "size": 3.875,
          "symbol": "circle"
         },
         "mode": "markers",
         "showlegend": false,
         "text": "atom H",
         "type": "scatter3d",
         "x": [
          1.875943148592789
         ],
         "y": [
          1.413989752701653
         ],
         "z": [
          -2.1977585320967115
         ]
        },
        {
         "legendgroup": "Atoms",
         "marker": {
          "color": "lightgray",
          "size": 3.875,
          "symbol": "circle"
         },
         "mode": "markers",
         "showlegend": false,
         "text": "atom H",
         "type": "scatter3d",
         "x": [
          0.1863151653379164
         ],
         "y": [
          -0.5266249054621276
         ],
         "z": [
          -2.117000982889071
         ]
        },
        {
         "legendgroup": "Atoms",
         "marker": {
          "color": "lightgray",
          "size": 3.875,
          "symbol": "circle"
         },
         "mode": "markers",
         "showlegend": false,
         "text": "atom H",
         "type": "scatter3d",
         "x": [
          -1.7481206525673496
         ],
         "y": [
          -0.3946286031944893
         ],
         "z": [
          -2.187526630242439
         ]
        },
        {
         "legendgroup": "Atoms",
         "marker": {
          "color": "lightgray",
          "size": 3.875,
          "symbol": "circle"
         },
         "mode": "markers",
         "showlegend": false,
         "text": "atom H",
         "type": "scatter3d",
         "x": [
          -4.1842941027699645
         ],
         "y": [
          -0.6539882905855826
         ],
         "z": [
          -2.312129319210815
         ]
        },
        {
         "legendgroup": "Atoms",
         "marker": {
          "color": "lightgray",
          "size": 3.875,
          "symbol": "circle"
         },
         "mode": "markers",
         "showlegend": false,
         "text": "atom H",
         "type": "scatter3d",
         "x": [
          -4.438705377977131
         ],
         "y": [
          -0.22519260427025234
         ],
         "z": [
          1.9008799583066323
         ]
        },
        {
         "legendgroup": "Atoms",
         "marker": {
          "color": "lightgray",
          "size": 3.875,
          "symbol": "circle"
         },
         "mode": "markers",
         "showlegend": false,
         "text": "atom H",
         "type": "scatter3d",
         "x": [
          -2.056015331452965
         ],
         "y": [
          0.0429293048823624
         ],
         "z": [
          2.018316137193561
         ]
        },
        {
         "legendgroup": "Atom importance",
         "marker": {
          "color": "blue",
          "size": 14.6625,
          "symbol": "circle"
         },
         "mode": "markers",
         "opacity": 0.5616368473859819,
         "showlegend": false,
         "text": "atom C",
         "type": "scatter3d",
         "x": [
          4.227554491149118
         ],
         "y": [
          -1.3785388036711388
         ],
         "z": [
          -0.8790393281252091
         ]
        },
        {
         "legendgroup": "Atom importance",
         "marker": {
          "color": "blue",
          "size": 14.025,
          "symbol": "circle"
         },
         "mode": "markers",
         "opacity": 0.7805991935511127,
         "showlegend": false,
         "text": "atom O",
         "type": "scatter3d",
         "x": [
          3.1825887924405345
         ],
         "y": [
          -0.6570486738399294
         ],
         "z": [
          -1.4482724565861167
         ]
        },
        {
         "legendgroup": "Atom importance",
         "marker": {
          "color": "blue",
          "size": 14.6625,
          "symbol": "circle"
         },
         "mode": "markers",
         "opacity": 1,
         "showlegend": false,
         "text": "atom C",
         "type": "scatter3d",
         "x": [
          2.6856433615357718
         ],
         "y": [
          0.24346056344836647
         ],
         "z": [
          -0.509150564394016
         ]
        },
        {
         "legendgroup": "Atom importance",
         "marker": {
          "color": "blue",
          "size": 14.6625,
          "symbol": "circle"
         },
         "mode": "markers",
         "opacity": 0.5128279195586274,
         "showlegend": false,
         "text": "atom C",
         "type": "scatter3d",
         "x": [
          3.7180136830341812
         ],
         "y": [
          1.2212334721786713
         ],
         "z": [
          -0.036605933900683514
         ]
        },
        {
         "legendgroup": "Atom importance",
         "marker": {
          "color": "blue",
          "size": 14.6625,
          "symbol": "circle"
         },
         "mode": "markers",
         "opacity": 0.5746786306521132,
         "showlegend": false,
         "text": "atom C",
         "type": "scatter3d",
         "x": [
          2.02651395936015
         ],
         "y": [
          -0.5308411982456098
         ],
         "z": [
          0.5787981630410896
         ]
        },
        {
         "legendgroup": "Atom importance",
         "marker": {
          "color": "blue",
          "size": 14.6625,
          "symbol": "circle"
         },
         "mode": "markers",
         "opacity": 0.5547323686721536,
         "showlegend": false,
         "text": "atom C",
         "type": "scatter3d",
         "x": [
          0.6909129801410049
         ],
         "y": [
          0.13580120436757812
         ],
         "z": [
          1.0300639926141604
         ]
        },
        {
         "legendgroup": "Atom importance",
         "marker": {
          "color": "blue",
          "size": 14.6625,
          "symbol": "circle"
         },
         "mode": "markers",
         "opacity": 0.5459892667252668,
         "showlegend": false,
         "text": "atom C",
         "type": "scatter3d",
         "x": [
          0.3228479913591989
         ],
         "y": [
          -0.3998212085421933
         ],
         "z": [
          2.341602914276945
         ]
        },
        {
         "legendgroup": "Atom importance",
         "marker": {
          "color": "blue",
          "size": 14.6625,
          "symbol": "circle"
         },
         "mode": "markers",
         "opacity": 0.568238371639476,
         "showlegend": false,
         "text": "atom C",
         "type": "scatter3d",
         "x": [
          1.0511740907975533
         ],
         "y": [
          1.6093891276465784
         ],
         "z": [
          1.0265914914945884
         ]
        },
        {
         "legendgroup": "Atom importance",
         "marker": {
          "color": "blue",
          "size": 14.6625,
          "symbol": "circle"
         },
         "mode": "markers",
         "opacity": 0.5514082502043949,
         "showlegend": false,
         "text": "atom C",
         "type": "scatter3d",
         "x": [
          1.1956101384794469
         ],
         "y": [
          2.0908348057340302
         ],
         "z": [
          -0.23268470182962375
         ]
        },
        {
         "legendgroup": "Atom importance",
         "marker": {
          "color": "blue",
          "size": 14.6625,
          "symbol": "circle"
         },
         "mode": "markers",
         "opacity": 0.676953747803725,
         "showlegend": false,
         "text": "atom C",
         "type": "scatter3d",
         "x": [
          1.5903551174669963
         ],
         "y": [
          1.0400395662326698
         ],
         "z": [
          -1.2287343976669076
         ]
        },
        {
         "legendgroup": "Atom importance",
         "marker": {
          "color": "blue",
          "size": 14.6625,
          "symbol": "circle"
         },
         "mode": "markers",
         "opacity": 0.5128674114751942,
         "showlegend": false,
         "text": "atom C",
         "type": "scatter3d",
         "x": [
          0.43518385729535863
         ],
         "y": [
          0.05614311291027773
         ],
         "z": [
          -1.2745356929756122
         ]
        },
        {
         "legendgroup": "Atom importance",
         "marker": {
          "color": "blue",
          "size": 14.6625,
          "symbol": "circle"
         },
         "mode": "markers",
         "opacity": 0.5655544653871477,
         "showlegend": false,
         "text": "atom C",
         "type": "scatter3d",
         "x": [
          -0.2437495311788689
         ],
         "y": [
          0.00011222821233419973
         ],
         "z": [
          -0.1014468086019305
         ]
        },
        {
         "legendgroup": "Atom importance",
         "marker": {
          "color": "blue",
          "size": 14.6625,
          "symbol": "circle"
         },
         "mode": "markers",
         "opacity": 0.5102333033911238,
         "showlegend": false,
         "text": "atom C",
         "type": "scatter3d",
         "x": [
          -1.6656893385895049
         ],
         "y": [
          -0.16432546009139165
         ],
         "z": [
          -0.08846940687475921
         ]
        },
        {
         "legendgroup": "Atom importance",
         "marker": {
          "color": "blue",
          "size": 14.6625,
          "symbol": "circle"
         },
         "mode": "markers",
         "opacity": 0.5064218502536837,
         "showlegend": false,
         "text": "atom C",
         "type": "scatter3d",
         "x": [
          -2.357714486013864
         ],
         "y": [
          -0.36191838365183315
         ],
         "z": [
          -1.2863119617595402
         ]
        },
        {
         "legendgroup": "Atom importance",
         "marker": {
          "color": "blue",
          "size": 14.6625,
          "symbol": "circle"
         },
         "mode": "markers",
         "opacity": 0.5025257765248232,
         "showlegend": false,
         "text": "atom C",
         "type": "scatter3d",
         "x": [
          -3.729271416733296
         ],
         "y": [
          -0.5043852994726982
         ],
         "z": [
          -1.3428782659429062
         ]
        },
        {
         "legendgroup": "Atom importance",
         "marker": {
          "color": "blue",
          "size": 14.6625,
          "symbol": "circle"
         },
         "mode": "markers",
         "opacity": 0.5783955332036073,
         "showlegend": false,
         "text": "atom C",
         "type": "scatter3d",
         "x": [
          -4.488732515807669
         ],
         "y": [
          -0.4571277153563286
         ],
         "z": [
          -0.20259031734726105
         ]
        },
        {
         "legendgroup": "Atom importance",
         "marker": {
          "color": "red",
          "size": 14.6625,
          "symbol": "circle"
         },
         "mode": "markers",
         "opacity": 0.27991903118847,
         "showlegend": false,
         "text": "atom C",
         "type": "scatter3d",
         "x": [
          -5.982660027482429
         ],
         "y": [
          -0.6092925277808511
         ],
         "z": [
          -0.23218881529968366
         ]
        },
        {
         "legendgroup": "Atom importance",
         "marker": {
          "color": "red",
          "size": 13.6,
          "symbol": "circle"
         },
         "mode": "markers",
         "opacity": 0.4362261893952936,
         "showlegend": false,
         "text": "atom F",
         "type": "scatter3d",
         "x": [
          -6.580182674444929
         ],
         "y": [
          0.6137524427338908
         ],
         "z": [
          -0.48977153364501036
         ]
        },
        {
         "legendgroup": "Atom importance",
         "marker": {
          "color": "red",
          "size": 13.6,
          "symbol": "circle"
         },
         "mode": "markers",
         "opacity": 0.36912307380859666,
         "showlegend": false,
         "text": "atom F",
         "type": "scatter3d",
         "x": [
          -6.367674892322727
         ],
         "y": [
          -1.0330237811041172
         ],
         "z": [
          1.0235211162564661
         ]
        },
        {
         "legendgroup": "Atom importance",
         "marker": {
          "color": "red",
          "size": 13.6,
          "symbol": "circle"
         },
         "mode": "markers",
         "opacity": 0.36676486427752364,
         "showlegend": false,
         "text": "atom F",
         "type": "scatter3d",
         "x": [
          -6.365915456756511
         ],
         "y": [
          -1.5778207577323466
         ],
         "z": [
          -1.1334239315376755
         ]
        },
        {
         "legendgroup": "Atom importance",
         "marker": {
          "color": "blue",
          "size": 14.6625,
          "symbol": "circle"
         },
         "mode": "markers",
         "opacity": 0.5427765239280129,
         "showlegend": false,
         "text": "atom C",
         "type": "scatter3d",
         "x": [
          -3.8435815200861083
         ],
         "y": [
          -0.26359041962828667
         ],
         "z": [
          0.9954329759730757
         ]
        },
        {
         "legendgroup": "Atom importance",
         "marker": {
          "color": "blue",
          "size": 14.6625,
          "symbol": "circle"
         },
         "mode": "markers",
         "opacity": 0.511898898022518,
         "showlegend": false,
         "text": "atom C",
         "type": "scatter3d",
         "x": [
          -2.4471761886298893
         ],
         "y": [
          -0.12039915247470456
         ],
         "z": [
          1.0331347187481583
         ]
        },
        {
         "legendgroup": "Atom importance",
         "marker": {
          "color": "red",
          "size": 6.5874999999999995,
          "symbol": "circle"
         },
         "mode": "markers",
         "opacity": 0.4368893390994197,
         "showlegend": false,
         "text": "atom H",
         "type": "scatter3d",
         "x": [
          3.9081263471432077
         ],
         "y": [
          -1.9519513679950147
         ],
         "z": [
          0.014610194148773457
         ]
        },
        {
         "legendgroup": "Atom importance",
         "marker": {
          "color": "red",
          "size": 6.5874999999999995,
          "symbol": "circle"
         },
         "mode": "markers",
         "opacity": 0.4404152875899624,
         "showlegend": false,
         "text": "atom H",
         "type": "scatter3d",
         "x": [
          4.628667545199277
         ],
         "y": [
          -2.111791611295648
         ],
         "z": [
          -1.6093683916586137
         ]
        },
        {
         "legendgroup": "Atom importance",
         "marker": {
          "color": "red",
          "size": 6.5874999999999995,
          "symbol": "circle"
         },
         "mode": "markers",
         "opacity": 0.4723050914146788,
         "showlegend": false,
         "text": "atom H",
         "type": "scatter3d",
         "x": [
          5.0605738635295126
         ],
         "y": [
          -0.696275355648892
         ],
         "z": [
          -0.6278349252952908
         ]
        },
        {
         "legendgroup": "Atom importance",
         "marker": {
          "color": "red",
          "size": 6.5874999999999995,
          "symbol": "circle"
         },
         "mode": "markers",
         "opacity": 0.43291183231625563,
         "showlegend": false,
         "text": "atom H",
         "type": "scatter3d",
         "x": [
          4.081678819064901
         ],
         "y": [
          0.9912928930634535
         ],
         "z": [
          0.9817791389349527
         ]
        },
        {
         "legendgroup": "Atom importance",
         "marker": {
          "color": "blue",
          "size": 6.5874999999999995,
          "symbol": "circle"
         },
         "mode": "markers",
         "opacity": 0.5408703625337952,
         "showlegend": false,
         "text": "atom H",
         "type": "scatter3d",
         "x": [
          3.3048877251762763
         ],
         "y": [
          2.2672065649193875
         ],
         "z": [
          0.014259556930670098
         ]
        },
        {
         "legendgroup": "Atom importance",
         "marker": {
          "color": "red",
          "size": 6.5874999999999995,
          "symbol": "circle"
         },
         "mode": "markers",
         "opacity": 0.4601148136094271,
         "showlegend": false,
         "text": "atom H",
         "type": "scatter3d",
         "x": [
          4.541476070522775
         ],
         "y": [
          1.2727037107320536
         ],
         "z": [
          -0.7846820775759987
         ]
        },
        {
         "legendgroup": "Atom importance",
         "marker": {
          "color": "red",
          "size": 6.5874999999999995,
          "symbol": "circle"
         },
         "mode": "markers",
         "opacity": 0.4719655264222484,
         "showlegend": false,
         "text": "atom H",
         "type": "scatter3d",
         "x": [
          2.6709246251251915
         ],
         "y": [
          -0.4783835313876061
         ],
         "z": [
          1.4898406261852932
         ]
        },
        {
         "legendgroup": "Atom importance",
         "marker": {
          "color": "red",
          "size": 6.5874999999999995,
          "symbol": "circle"
         },
         "mode": "markers",
         "opacity": 0.4800432495187849,
         "showlegend": false,
         "text": "atom H",
         "type": "scatter3d",
         "x": [
          1.8657504018895197
         ],
         "y": [
          -1.5866671792038254
         ],
         "z": [
          0.35016286084790965
         ]
        },
        {
         "legendgroup": "Atom importance",
         "marker": {
          "color": "red",
          "size": 6.5874999999999995,
          "symbol": "circle"
         },
         "mode": "markers",
         "opacity": 0.4577137604558602,
         "showlegend": false,
         "text": "atom H",
         "type": "scatter3d",
         "x": [
          -0.25120057021234804
         ],
         "y": [
          -1.3235596961935925
         ],
         "z": [
          2.3560971212743205
         ]
        },
        {
         "legendgroup": "Atom importance",
         "marker": {
          "color": "blue",
          "size": 6.5874999999999995,
          "symbol": "circle"
         },
         "mode": "markers",
         "opacity": 0.5,
         "showlegend": false,
         "text": "atom H",
         "type": "scatter3d",
         "x": [
          -0.0302578022108265
         ],
         "y": [
          0.4043599033497138
         ],
         "z": [
          3.0366838959407065
         ]
        },
        {
         "legendgroup": "Atom importance",
         "marker": {
          "color": "red",
          "size": 6.5874999999999995,
          "symbol": "circle"
         },
         "mode": "markers",
         "opacity": 0.4747222792564019,
         "showlegend": false,
         "text": "atom H",
         "type": "scatter3d",
         "x": [
          1.3093787402016315
         ],
         "y": [
          -0.706746476946147
         ],
         "z": [
          2.8555003710506477
         ]
        },
        {
         "legendgroup": "Atom importance",
         "marker": {
          "color": "red",
          "size": 6.5874999999999995,
          "symbol": "circle"
         },
         "mode": "markers",
         "opacity": 0.45081356610428136,
         "showlegend": false,
         "text": "atom H",
         "type": "scatter3d",
         "x": [
          1.1749186841992918
         ],
         "y": [
          2.1932599385789144
         ],
         "z": [
          1.9089223102975483
         ]
        },
        {
         "legendgroup": "Atom importance",
         "marker": {
          "color": "red",
          "size": 6.5874999999999995,
          "symbol": "circle"
         },
         "mode": "markers",
         "opacity": 0.494961875404412,
         "showlegend": false,
         "text": "atom H",
         "type": "scatter3d",
         "x": [
          1.0459022861959355
         ],
         "y": [
          3.117434412082573
         ],
         "z": [
          -0.5031523247577558
         ]
        },
        {
         "legendgroup": "Atom importance",
         "marker": {
          "color": "red",
          "size": 6.5874999999999995,
          "symbol": "circle"
         },
         "mode": "markers",
         "opacity": 0.49412906300293236,
         "showlegend": false,
         "text": "atom H",
         "type": "scatter3d",
         "x": [
          1.875943148592789
         ],
         "y": [
          1.413989752701653
         ],
         "z": [
          -2.1977585320967115
         ]
        },
        {
         "legendgroup": "Atom importance",
         "marker": {
          "color": "red",
          "size": 6.5874999999999995,
          "symbol": "circle"
         },
         "mode": "markers",
         "opacity": 0.49517563828120753,
         "showlegend": false,
         "text": "atom H",
         "type": "scatter3d",
         "x": [
          0.1863151653379164
         ],
         "y": [
          -0.5266249054621276
         ],
         "z": [
          -2.117000982889071
         ]
        },
        {
         "legendgroup": "Atom importance",
         "marker": {
          "color": "blue",
          "size": 6.5874999999999995,
          "symbol": "circle"
         },
         "mode": "markers",
         "opacity": 0.5285752261161083,
         "showlegend": false,
         "text": "atom H",
         "type": "scatter3d",
         "x": [
          -1.7481206525673496
         ],
         "y": [
          -0.3946286031944893
         ],
         "z": [
          -2.187526630242439
         ]
        },
        {
         "legendgroup": "Atom importance",
         "marker": {
          "color": "red",
          "size": 6.5874999999999995,
          "symbol": "circle"
         },
         "mode": "markers",
         "opacity": 0.4775974537089185,
         "showlegend": false,
         "text": "atom H",
         "type": "scatter3d",
         "x": [
          -4.1842941027699645
         ],
         "y": [
          -0.6539882905855826
         ],
         "z": [
          -2.312129319210815
         ]
        },
        {
         "legendgroup": "Atom importance",
         "marker": {
          "color": "red",
          "size": 6.5874999999999995,
          "symbol": "circle"
         },
         "mode": "markers",
         "opacity": 0.48842110869651206,
         "showlegend": false,
         "text": "atom H",
         "type": "scatter3d",
         "x": [
          -4.438705377977131
         ],
         "y": [
          -0.22519260427025234
         ],
         "z": [
          1.9008799583066323
         ]
        },
        {
         "legendgroup": "Atom importance",
         "marker": {
          "color": "red",
          "size": 6.5874999999999995,
          "symbol": "circle"
         },
         "mode": "markers",
         "opacity": 0.4975011116641073,
         "showlegend": false,
         "text": "atom H",
         "type": "scatter3d",
         "x": [
          -2.056015331452965
         ],
         "y": [
          0.0429293048823624
         ],
         "z": [
          2.018316137193561
         ]
        },
        {
         "hoverinfo": "none",
         "legendgroup": "Bonds",
         "line": {
          "color": "black",
          "width": 2
         },
         "mode": "lines",
         "showlegend": false,
         "type": "scatter3d",
         "x": [
          4.227554491149118,
          3.1825887924405345
         ],
         "y": [
          -1.3785388036711388,
          -0.6570486738399294
         ],
         "z": [
          -0.8790393281252091,
          -1.4482724565861167
         ]
        },
        {
         "hoverinfo": "none",
         "legendgroup": "Bonds",
         "line": {
          "color": "black",
          "width": 2
         },
         "mode": "lines",
         "showlegend": false,
         "type": "scatter3d",
         "x": [
          3.1825887924405345,
          2.6856433615357718
         ],
         "y": [
          -0.6570486738399294,
          0.24346056344836647
         ],
         "z": [
          -1.4482724565861167,
          -0.509150564394016
         ]
        },
        {
         "hoverinfo": "none",
         "legendgroup": "Bonds",
         "line": {
          "color": "black",
          "width": 2
         },
         "mode": "lines",
         "showlegend": false,
         "type": "scatter3d",
         "x": [
          2.6856433615357718,
          3.7180136830341812
         ],
         "y": [
          0.24346056344836647,
          1.2212334721786713
         ],
         "z": [
          -0.509150564394016,
          -0.036605933900683514
         ]
        },
        {
         "hoverinfo": "none",
         "legendgroup": "Bonds",
         "line": {
          "color": "black",
          "width": 2
         },
         "mode": "lines",
         "showlegend": false,
         "type": "scatter3d",
         "x": [
          2.6856433615357718,
          2.02651395936015
         ],
         "y": [
          0.24346056344836647,
          -0.5308411982456098
         ],
         "z": [
          -0.509150564394016,
          0.5787981630410896
         ]
        },
        {
         "hoverinfo": "none",
         "legendgroup": "Bonds",
         "line": {
          "color": "black",
          "width": 2
         },
         "mode": "lines",
         "showlegend": false,
         "type": "scatter3d",
         "x": [
          2.02651395936015,
          0.6909129801410049
         ],
         "y": [
          -0.5308411982456098,
          0.13580120436757812
         ],
         "z": [
          0.5787981630410896,
          1.0300639926141604
         ]
        },
        {
         "hoverinfo": "none",
         "legendgroup": "Bonds",
         "line": {
          "color": "black",
          "width": 2
         },
         "mode": "lines",
         "showlegend": false,
         "type": "scatter3d",
         "x": [
          0.6909129801410049,
          0.3228479913591989
         ],
         "y": [
          0.13580120436757812,
          -0.3998212085421933
         ],
         "z": [
          1.0300639926141604,
          2.341602914276945
         ]
        },
        {
         "hoverinfo": "none",
         "legendgroup": "Bonds",
         "line": {
          "color": "black",
          "width": 2
         },
         "mode": "lines",
         "showlegend": false,
         "type": "scatter3d",
         "x": [
          0.6909129801410049,
          1.0511740907975533
         ],
         "y": [
          0.13580120436757812,
          1.6093891276465784
         ],
         "z": [
          1.0300639926141604,
          1.0265914914945884
         ]
        },
        {
         "hoverinfo": "none",
         "legendgroup": "Bonds",
         "line": {
          "color": "black",
          "width": 2
         },
         "mode": "lines",
         "showlegend": false,
         "type": "scatter3d",
         "x": [
          1.0511740907975533,
          1.1956101384794469
         ],
         "y": [
          1.6093891276465784,
          2.0908348057340302
         ],
         "z": [
          1.0265914914945884,
          -0.23268470182962375
         ]
        },
        {
         "hoverinfo": "none",
         "legendgroup": "Bonds",
         "line": {
          "color": "black",
          "width": 2
         },
         "mode": "lines",
         "showlegend": false,
         "type": "scatter3d",
         "x": [
          1.1956101384794469,
          1.5903551174669963
         ],
         "y": [
          2.0908348057340302,
          1.0400395662326698
         ],
         "z": [
          -0.23268470182962375,
          -1.2287343976669076
         ]
        },
        {
         "hoverinfo": "none",
         "legendgroup": "Bonds",
         "line": {
          "color": "black",
          "width": 2
         },
         "mode": "lines",
         "showlegend": false,
         "type": "scatter3d",
         "x": [
          1.5903551174669963,
          0.43518385729535863
         ],
         "y": [
          1.0400395662326698,
          0.05614311291027773
         ],
         "z": [
          -1.2287343976669076,
          -1.2745356929756122
         ]
        },
        {
         "hoverinfo": "none",
         "legendgroup": "Bonds",
         "line": {
          "color": "black",
          "width": 2
         },
         "mode": "lines",
         "showlegend": false,
         "type": "scatter3d",
         "x": [
          0.43518385729535863,
          -0.2437495311788689
         ],
         "y": [
          0.05614311291027773,
          0.00011222821233419973
         ],
         "z": [
          -1.2745356929756122,
          -0.1014468086019305
         ]
        },
        {
         "hoverinfo": "none",
         "legendgroup": "Bonds",
         "line": {
          "color": "black",
          "width": 2
         },
         "mode": "lines",
         "showlegend": false,
         "type": "scatter3d",
         "x": [
          -0.2437495311788689,
          -1.6656893385895049
         ],
         "y": [
          0.00011222821233419973,
          -0.16432546009139165
         ],
         "z": [
          -0.1014468086019305,
          -0.08846940687475921
         ]
        },
        {
         "hoverinfo": "none",
         "legendgroup": "Bonds",
         "line": {
          "color": "black",
          "width": 2
         },
         "mode": "lines",
         "showlegend": false,
         "type": "scatter3d",
         "x": [
          -1.6656893385895049,
          -2.357714486013864
         ],
         "y": [
          -0.16432546009139165,
          -0.36191838365183315
         ],
         "z": [
          -0.08846940687475921,
          -1.2863119617595402
         ]
        },
        {
         "hoverinfo": "none",
         "legendgroup": "Bonds",
         "line": {
          "color": "black",
          "width": 2
         },
         "mode": "lines",
         "showlegend": false,
         "type": "scatter3d",
         "x": [
          -2.357714486013864,
          -3.729271416733296
         ],
         "y": [
          -0.36191838365183315,
          -0.5043852994726982
         ],
         "z": [
          -1.2863119617595402,
          -1.3428782659429062
         ]
        },
        {
         "hoverinfo": "none",
         "legendgroup": "Bonds",
         "line": {
          "color": "black",
          "width": 2
         },
         "mode": "lines",
         "showlegend": false,
         "type": "scatter3d",
         "x": [
          -3.729271416733296,
          -4.488732515807669
         ],
         "y": [
          -0.5043852994726982,
          -0.4571277153563286
         ],
         "z": [
          -1.3428782659429062,
          -0.20259031734726105
         ]
        },
        {
         "hoverinfo": "none",
         "legendgroup": "Bonds",
         "line": {
          "color": "black",
          "width": 2
         },
         "mode": "lines",
         "showlegend": false,
         "type": "scatter3d",
         "x": [
          -4.488732515807669,
          -5.982660027482429
         ],
         "y": [
          -0.4571277153563286,
          -0.6092925277808511
         ],
         "z": [
          -0.20259031734726105,
          -0.23218881529968366
         ]
        },
        {
         "hoverinfo": "none",
         "legendgroup": "Bonds",
         "line": {
          "color": "black",
          "width": 2
         },
         "mode": "lines",
         "showlegend": false,
         "type": "scatter3d",
         "x": [
          -5.982660027482429,
          -6.580182674444929
         ],
         "y": [
          -0.6092925277808511,
          0.6137524427338908
         ],
         "z": [
          -0.23218881529968366,
          -0.48977153364501036
         ]
        },
        {
         "hoverinfo": "none",
         "legendgroup": "Bonds",
         "line": {
          "color": "black",
          "width": 2
         },
         "mode": "lines",
         "showlegend": false,
         "type": "scatter3d",
         "x": [
          -5.982660027482429,
          -6.367674892322727
         ],
         "y": [
          -0.6092925277808511,
          -1.0330237811041172
         ],
         "z": [
          -0.23218881529968366,
          1.0235211162564661
         ]
        },
        {
         "hoverinfo": "none",
         "legendgroup": "Bonds",
         "line": {
          "color": "black",
          "width": 2
         },
         "mode": "lines",
         "showlegend": false,
         "type": "scatter3d",
         "x": [
          -5.982660027482429,
          -6.365915456756511
         ],
         "y": [
          -0.6092925277808511,
          -1.5778207577323466
         ],
         "z": [
          -0.23218881529968366,
          -1.1334239315376755
         ]
        },
        {
         "hoverinfo": "none",
         "legendgroup": "Bonds",
         "line": {
          "color": "black",
          "width": 2
         },
         "mode": "lines",
         "showlegend": false,
         "type": "scatter3d",
         "x": [
          -4.488732515807669,
          -3.8435815200861083
         ],
         "y": [
          -0.4571277153563286,
          -0.26359041962828667
         ],
         "z": [
          -0.20259031734726105,
          0.9954329759730757
         ]
        },
        {
         "hoverinfo": "none",
         "legendgroup": "Bonds",
         "line": {
          "color": "black",
          "width": 2
         },
         "mode": "lines",
         "showlegend": false,
         "type": "scatter3d",
         "x": [
          -3.8435815200861083,
          -2.4471761886298893
         ],
         "y": [
          -0.26359041962828667,
          -0.12039915247470456
         ],
         "z": [
          0.9954329759730757,
          1.0331347187481583
         ]
        },
        {
         "hoverinfo": "none",
         "legendgroup": "Bonds",
         "line": {
          "color": "black",
          "width": 2
         },
         "mode": "lines",
         "showlegend": false,
         "type": "scatter3d",
         "x": [
          2.6856433615357718,
          1.5903551174669963
         ],
         "y": [
          0.24346056344836647,
          1.0400395662326698
         ],
         "z": [
          -0.509150564394016,
          -1.2287343976669076
         ]
        },
        {
         "hoverinfo": "none",
         "legendgroup": "Bonds",
         "line": {
          "color": "black",
          "width": 2
         },
         "mode": "lines",
         "showlegend": false,
         "type": "scatter3d",
         "x": [
          -1.6656893385895049,
          -2.4471761886298893
         ],
         "y": [
          -0.16432546009139165,
          -0.12039915247470456
         ],
         "z": [
          -0.08846940687475921,
          1.0331347187481583
         ]
        },
        {
         "hoverinfo": "none",
         "legendgroup": "Bonds",
         "line": {
          "color": "black",
          "width": 2
         },
         "mode": "lines",
         "showlegend": false,
         "type": "scatter3d",
         "x": [
          0.6909129801410049,
          -0.2437495311788689
         ],
         "y": [
          0.13580120436757812,
          0.00011222821233419973
         ],
         "z": [
          1.0300639926141604,
          -0.1014468086019305
         ]
        },
        {
         "hoverinfo": "none",
         "legendgroup": "Bonds",
         "line": {
          "color": "black",
          "width": 2
         },
         "mode": "lines",
         "showlegend": false,
         "type": "scatter3d",
         "x": [
          4.227554491149118,
          3.9081263471432077
         ],
         "y": [
          -1.3785388036711388,
          -1.9519513679950147
         ],
         "z": [
          -0.8790393281252091,
          0.014610194148773457
         ]
        },
        {
         "hoverinfo": "none",
         "legendgroup": "Bonds",
         "line": {
          "color": "black",
          "width": 2
         },
         "mode": "lines",
         "showlegend": false,
         "type": "scatter3d",
         "x": [
          4.227554491149118,
          4.628667545199277
         ],
         "y": [
          -1.3785388036711388,
          -2.111791611295648
         ],
         "z": [
          -0.8790393281252091,
          -1.6093683916586137
         ]
        },
        {
         "hoverinfo": "none",
         "legendgroup": "Bonds",
         "line": {
          "color": "black",
          "width": 2
         },
         "mode": "lines",
         "showlegend": false,
         "type": "scatter3d",
         "x": [
          4.227554491149118,
          5.0605738635295126
         ],
         "y": [
          -1.3785388036711388,
          -0.696275355648892
         ],
         "z": [
          -0.8790393281252091,
          -0.6278349252952908
         ]
        },
        {
         "hoverinfo": "none",
         "legendgroup": "Bonds",
         "line": {
          "color": "black",
          "width": 2
         },
         "mode": "lines",
         "showlegend": false,
         "type": "scatter3d",
         "x": [
          3.7180136830341812,
          4.081678819064901
         ],
         "y": [
          1.2212334721786713,
          0.9912928930634535
         ],
         "z": [
          -0.036605933900683514,
          0.9817791389349527
         ]
        },
        {
         "hoverinfo": "none",
         "legendgroup": "Bonds",
         "line": {
          "color": "black",
          "width": 2
         },
         "mode": "lines",
         "showlegend": false,
         "type": "scatter3d",
         "x": [
          3.7180136830341812,
          3.3048877251762763
         ],
         "y": [
          1.2212334721786713,
          2.2672065649193875
         ],
         "z": [
          -0.036605933900683514,
          0.014259556930670098
         ]
        },
        {
         "hoverinfo": "none",
         "legendgroup": "Bonds",
         "line": {
          "color": "black",
          "width": 2
         },
         "mode": "lines",
         "showlegend": false,
         "type": "scatter3d",
         "x": [
          3.7180136830341812,
          4.541476070522775
         ],
         "y": [
          1.2212334721786713,
          1.2727037107320536
         ],
         "z": [
          -0.036605933900683514,
          -0.7846820775759987
         ]
        },
        {
         "hoverinfo": "none",
         "legendgroup": "Bonds",
         "line": {
          "color": "black",
          "width": 2
         },
         "mode": "lines",
         "showlegend": false,
         "type": "scatter3d",
         "x": [
          2.02651395936015,
          2.6709246251251915
         ],
         "y": [
          -0.5308411982456098,
          -0.4783835313876061
         ],
         "z": [
          0.5787981630410896,
          1.4898406261852932
         ]
        },
        {
         "hoverinfo": "none",
         "legendgroup": "Bonds",
         "line": {
          "color": "black",
          "width": 2
         },
         "mode": "lines",
         "showlegend": false,
         "type": "scatter3d",
         "x": [
          2.02651395936015,
          1.8657504018895197
         ],
         "y": [
          -0.5308411982456098,
          -1.5866671792038254
         ],
         "z": [
          0.5787981630410896,
          0.35016286084790965
         ]
        },
        {
         "hoverinfo": "none",
         "legendgroup": "Bonds",
         "line": {
          "color": "black",
          "width": 2
         },
         "mode": "lines",
         "showlegend": false,
         "type": "scatter3d",
         "x": [
          0.3228479913591989,
          -0.25120057021234804
         ],
         "y": [
          -0.3998212085421933,
          -1.3235596961935925
         ],
         "z": [
          2.341602914276945,
          2.3560971212743205
         ]
        },
        {
         "hoverinfo": "none",
         "legendgroup": "Bonds",
         "line": {
          "color": "black",
          "width": 2
         },
         "mode": "lines",
         "showlegend": false,
         "type": "scatter3d",
         "x": [
          0.3228479913591989,
          -0.0302578022108265
         ],
         "y": [
          -0.3998212085421933,
          0.4043599033497138
         ],
         "z": [
          2.341602914276945,
          3.0366838959407065
         ]
        },
        {
         "hoverinfo": "none",
         "legendgroup": "Bonds",
         "line": {
          "color": "black",
          "width": 2
         },
         "mode": "lines",
         "showlegend": false,
         "type": "scatter3d",
         "x": [
          0.3228479913591989,
          1.3093787402016315
         ],
         "y": [
          -0.3998212085421933,
          -0.706746476946147
         ],
         "z": [
          2.341602914276945,
          2.8555003710506477
         ]
        },
        {
         "hoverinfo": "none",
         "legendgroup": "Bonds",
         "line": {
          "color": "black",
          "width": 2
         },
         "mode": "lines",
         "showlegend": false,
         "type": "scatter3d",
         "x": [
          1.0511740907975533,
          1.1749186841992918
         ],
         "y": [
          1.6093891276465784,
          2.1932599385789144
         ],
         "z": [
          1.0265914914945884,
          1.9089223102975483
         ]
        },
        {
         "hoverinfo": "none",
         "legendgroup": "Bonds",
         "line": {
          "color": "black",
          "width": 2
         },
         "mode": "lines",
         "showlegend": false,
         "type": "scatter3d",
         "x": [
          1.1956101384794469,
          1.0459022861959355
         ],
         "y": [
          2.0908348057340302,
          3.117434412082573
         ],
         "z": [
          -0.23268470182962375,
          -0.5031523247577558
         ]
        },
        {
         "hoverinfo": "none",
         "legendgroup": "Bonds",
         "line": {
          "color": "black",
          "width": 2
         },
         "mode": "lines",
         "showlegend": false,
         "type": "scatter3d",
         "x": [
          1.5903551174669963,
          1.875943148592789
         ],
         "y": [
          1.0400395662326698,
          1.413989752701653
         ],
         "z": [
          -1.2287343976669076,
          -2.1977585320967115
         ]
        },
        {
         "hoverinfo": "none",
         "legendgroup": "Bonds",
         "line": {
          "color": "black",
          "width": 2
         },
         "mode": "lines",
         "showlegend": false,
         "type": "scatter3d",
         "x": [
          0.43518385729535863,
          0.1863151653379164
         ],
         "y": [
          0.05614311291027773,
          -0.5266249054621276
         ],
         "z": [
          -1.2745356929756122,
          -2.117000982889071
         ]
        },
        {
         "hoverinfo": "none",
         "legendgroup": "Bonds",
         "line": {
          "color": "black",
          "width": 2
         },
         "mode": "lines",
         "showlegend": false,
         "type": "scatter3d",
         "x": [
          -2.357714486013864,
          -1.7481206525673496
         ],
         "y": [
          -0.36191838365183315,
          -0.3946286031944893
         ],
         "z": [
          -1.2863119617595402,
          -2.187526630242439
         ]
        },
        {
         "hoverinfo": "none",
         "legendgroup": "Bonds",
         "line": {
          "color": "black",
          "width": 2
         },
         "mode": "lines",
         "showlegend": false,
         "type": "scatter3d",
         "x": [
          -3.729271416733296,
          -4.1842941027699645
         ],
         "y": [
          -0.5043852994726982,
          -0.6539882905855826
         ],
         "z": [
          -1.3428782659429062,
          -2.312129319210815
         ]
        },
        {
         "hoverinfo": "none",
         "legendgroup": "Bonds",
         "line": {
          "color": "black",
          "width": 2
         },
         "mode": "lines",
         "showlegend": false,
         "type": "scatter3d",
         "x": [
          -3.8435815200861083,
          -4.438705377977131
         ],
         "y": [
          -0.26359041962828667,
          -0.22519260427025234
         ],
         "z": [
          0.9954329759730757,
          1.9008799583066323
         ]
        },
        {
         "hoverinfo": "none",
         "legendgroup": "Bonds",
         "line": {
          "color": "black",
          "width": 2
         },
         "mode": "lines",
         "showlegend": false,
         "type": "scatter3d",
         "x": [
          -2.4471761886298893,
          -2.056015331452965
         ],
         "y": [
          -0.12039915247470456,
          0.0429293048823624
         ],
         "z": [
          1.0331347187481583,
          2.018316137193561
         ]
        },
        {
         "hoverinfo": "none",
         "legendgroup": "Bond importance",
         "line": {
          "color": "blue",
          "width": 9.132465954552002
         },
         "mode": "lines",
         "opacity": 0.6088310636368001,
         "showlegend": false,
         "type": "scatter3d",
         "x": [
          4.227554491149118,
          3.1825887924405345
         ],
         "y": [
          -1.3785388036711388,
          -0.6570486738399294
         ],
         "z": [
          -0.8790393281252091,
          -1.4482724565861167
         ]
        },
        {
         "hoverinfo": "none",
         "legendgroup": "Bond importance",
         "line": {
          "color": "blue",
          "width": 15
         },
         "mode": "lines",
         "opacity": 1,
         "showlegend": false,
         "type": "scatter3d",
         "x": [
          3.1825887924405345,
          2.6856433615357718
         ],
         "y": [
          -0.6570486738399294,
          0.24346056344836647
         ],
         "z": [
          -1.4482724565861167,
          -0.509150564394016
         ]
        },
        {
         "hoverinfo": "none",
         "legendgroup": "Bond importance",
         "line": {
          "color": "blue",
          "width": 8.344837492422625
         },
         "mode": "lines",
         "opacity": 0.5563224994948417,
         "showlegend": false,
         "type": "scatter3d",
         "x": [
          2.6856433615357718,
          3.7180136830341812
         ],
         "y": [
          0.24346056344836647,
          1.2212334721786713
         ],
         "z": [
          -0.509150564394016,
          -0.036605933900683514
         ]
        },
        {
         "hoverinfo": "none",
         "legendgroup": "Bond importance",
         "line": {
          "color": "blue",
          "width": 7.64636818478122
         },
         "mode": "lines",
         "opacity": 0.5097578789854147,
         "showlegend": false,
         "type": "scatter3d",
         "x": [
          2.6856433615357718,
          2.02651395936015
         ],
         "y": [
          0.24346056344836647,
          -0.5308411982456098
         ],
         "z": [
          -0.509150564394016,
          0.5787981630410896
         ]
        },
        {
         "hoverinfo": "none",
         "legendgroup": "Bond importance",
         "line": {
          "color": "blue",
          "width": 7.5538225081173564
         },
         "mode": "lines",
         "opacity": 0.5035881672078237,
         "showlegend": false,
         "type": "scatter3d",
         "x": [
          2.02651395936015,
          0.6909129801410049
         ],
         "y": [
          -0.5308411982456098,
          0.13580120436757812
         ],
         "z": [
          0.5787981630410896,
          1.0300639926141604
         ]
        },
        {
         "hoverinfo": "none",
         "legendgroup": "Bond importance",
         "line": {
          "color": "blue",
          "width": 7.872073628800071
         },
         "mode": "lines",
         "opacity": 0.5248049085866714,
         "showlegend": false,
         "type": "scatter3d",
         "x": [
          0.6909129801410049,
          0.3228479913591989
         ],
         "y": [
          0.13580120436757812,
          -0.3998212085421933
         ],
         "z": [
          1.0300639926141604,
          2.341602914276945
         ]
        },
        {
         "hoverinfo": "none",
         "legendgroup": "Bond importance",
         "line": {
          "color": "blue",
          "width": 7.528626230882903
         },
         "mode": "lines",
         "opacity": 0.5019084153921936,
         "showlegend": false,
         "type": "scatter3d",
         "x": [
          0.6909129801410049,
          1.0511740907975533
         ],
         "y": [
          0.13580120436757812,
          1.6093891276465784
         ],
         "z": [
          1.0300639926141604,
          1.0265914914945884
         ]
        },
        {
         "hoverinfo": "none",
         "legendgroup": "Bond importance",
         "line": {
          "color": "red",
          "width": 7.426201166001018
         },
         "mode": "lines",
         "opacity": 0.49508007773340124,
         "showlegend": false,
         "type": "scatter3d",
         "x": [
          1.0511740907975533,
          1.1956101384794469
         ],
         "y": [
          1.6093891276465784,
          2.0908348057340302
         ],
         "z": [
          1.0265914914945884,
          -0.23268470182962375
         ]
        },
        {
         "hoverinfo": "none",
         "legendgroup": "Bond importance",
         "line": {
          "color": "blue",
          "width": 7.5
         },
         "mode": "lines",
         "opacity": 0.5,
         "showlegend": false,
         "type": "scatter3d",
         "x": [
          1.1956101384794469,
          1.5903551174669963
         ],
         "y": [
          2.0908348057340302,
          1.0400395662326698
         ],
         "z": [
          -0.23268470182962375,
          -1.2287343976669076
         ]
        },
        {
         "hoverinfo": "none",
         "legendgroup": "Bond importance",
         "line": {
          "color": "blue",
          "width": 7.590884306270453
         },
         "mode": "lines",
         "opacity": 0.5060589537513636,
         "showlegend": false,
         "type": "scatter3d",
         "x": [
          1.5903551174669963,
          0.43518385729535863
         ],
         "y": [
          1.0400395662326698,
          0.05614311291027773
         ],
         "z": [
          -1.2287343976669076,
          -1.2745356929756122
         ]
        },
        {
         "hoverinfo": "none",
         "legendgroup": "Bond importance",
         "line": {
          "color": "blue",
          "width": 8.378952936330588
         },
         "mode": "lines",
         "opacity": 0.5585968624220392,
         "showlegend": false,
         "type": "scatter3d",
         "x": [
          0.43518385729535863,
          -0.2437495311788689
         ],
         "y": [
          0.05614311291027773,
          0.00011222821233419973
         ],
         "z": [
          -1.2745356929756122,
          -0.1014468086019305
         ]
        },
        {
         "hoverinfo": "none",
         "legendgroup": "Bond importance",
         "line": {
          "color": "blue",
          "width": 7.927372306205383
         },
         "mode": "lines",
         "opacity": 0.5284914870803589,
         "showlegend": false,
         "type": "scatter3d",
         "x": [
          -0.2437495311788689,
          -1.6656893385895049
         ],
         "y": [
          0.00011222821233419973,
          -0.16432546009139165
         ],
         "z": [
          -0.1014468086019305,
          -0.08846940687475921
         ]
        },
        {
         "hoverinfo": "none",
         "legendgroup": "Bond importance",
         "line": {
          "color": "red",
          "width": 7.321089726665447
         },
         "mode": "lines",
         "opacity": 0.4880726484443631,
         "showlegend": false,
         "type": "scatter3d",
         "x": [
          -1.6656893385895049,
          -2.357714486013864
         ],
         "y": [
          -0.16432546009139165,
          -0.36191838365183315
         ],
         "z": [
          -0.08846940687475921,
          -1.2863119617595402
         ]
        },
        {
         "hoverinfo": "none",
         "legendgroup": "Bond importance",
         "line": {
          "color": "red",
          "width": 7.427956006085581
         },
         "mode": "lines",
         "opacity": 0.49519706707237204,
         "showlegend": false,
         "type": "scatter3d",
         "x": [
          -2.357714486013864,
          -3.729271416733296
         ],
         "y": [
          -0.36191838365183315,
          -0.5043852994726982
         ],
         "z": [
          -1.2863119617595402,
          -1.3428782659429062
         ]
        },
        {
         "hoverinfo": "none",
         "legendgroup": "Bond importance",
         "line": {
          "color": "blue",
          "width": 7.712573147590661
         },
         "mode": "lines",
         "opacity": 0.5141715431727107,
         "showlegend": false,
         "type": "scatter3d",
         "x": [
          -3.729271416733296,
          -4.488732515807669
         ],
         "y": [
          -0.5043852994726982,
          -0.4571277153563286
         ],
         "z": [
          -1.3428782659429062,
          -0.20259031734726105
         ]
        },
        {
         "hoverinfo": "none",
         "legendgroup": "Bond importance",
         "line": {
          "color": "blue",
          "width": 8.179198711377948
         },
         "mode": "lines",
         "opacity": 0.5452799140918632,
         "showlegend": false,
         "type": "scatter3d",
         "x": [
          -4.488732515807669,
          -5.982660027482429
         ],
         "y": [
          -0.4571277153563286,
          -0.6092925277808511
         ],
         "z": [
          -0.20259031734726105,
          -0.23218881529968366
         ]
        },
        {
         "hoverinfo": "none",
         "legendgroup": "Bond importance",
         "line": {
          "color": "red",
          "width": 6.093250869788547
         },
         "mode": "lines",
         "opacity": 0.4062167246525698,
         "showlegend": false,
         "type": "scatter3d",
         "x": [
          -5.982660027482429,
          -6.580182674444929
         ],
         "y": [
          -0.6092925277808511,
          0.6137524427338908
         ],
         "z": [
          -0.23218881529968366,
          -0.48977153364501036
         ]
        },
        {
         "hoverinfo": "none",
         "legendgroup": "Bond importance",
         "line": {
          "color": "red",
          "width": 6.5713551822877765
         },
         "mode": "lines",
         "opacity": 0.43809034548585174,
         "showlegend": false,
         "type": "scatter3d",
         "x": [
          -5.982660027482429,
          -6.367674892322727
         ],
         "y": [
          -0.6092925277808511,
          -1.0330237811041172
         ],
         "z": [
          -0.23218881529968366,
          1.0235211162564661
         ]
        },
        {
         "hoverinfo": "none",
         "legendgroup": "Bond importance",
         "line": {
          "color": "red",
          "width": 5.611364743193482
         },
         "mode": "lines",
         "opacity": 0.37409098287956544,
         "showlegend": false,
         "type": "scatter3d",
         "x": [
          -5.982660027482429,
          -6.365915456756511
         ],
         "y": [
          -0.6092925277808511,
          -1.5778207577323466
         ],
         "z": [
          -0.23218881529968366,
          -1.1334239315376755
         ]
        },
        {
         "hoverinfo": "none",
         "legendgroup": "Bond importance",
         "line": {
          "color": "red",
          "width": 7.384206578105548
         },
         "mode": "lines",
         "opacity": 0.4922804385403699,
         "showlegend": false,
         "type": "scatter3d",
         "x": [
          -4.488732515807669,
          -3.8435815200861083
         ],
         "y": [
          -0.4571277153563286,
          -0.26359041962828667
         ],
         "z": [
          -0.20259031734726105,
          0.9954329759730757
         ]
        },
        {
         "hoverinfo": "none",
         "legendgroup": "Bond importance",
         "line": {
          "color": "red",
          "width": 7.363861578800514
         },
         "mode": "lines",
         "opacity": 0.4909241052533676,
         "showlegend": false,
         "type": "scatter3d",
         "x": [
          -3.8435815200861083,
          -2.4471761886298893
         ],
         "y": [
          -0.26359041962828667,
          -0.12039915247470456
         ],
         "z": [
          0.9954329759730757,
          1.0331347187481583
         ]
        },
        {
         "hoverinfo": "none",
         "legendgroup": "Bond importance",
         "line": {
          "color": "blue",
          "width": 8.618219370787166
         },
         "mode": "lines",
         "opacity": 0.5745479580524777,
         "showlegend": false,
         "type": "scatter3d",
         "x": [
          2.6856433615357718,
          1.5903551174669963
         ],
         "y": [
          0.24346056344836647,
          1.0400395662326698
         ],
         "z": [
          -0.509150564394016,
          -1.2287343976669076
         ]
        },
        {
         "hoverinfo": "none",
         "legendgroup": "Bond importance",
         "line": {
          "color": "blue",
          "width": 7.526711389962552
         },
         "mode": "lines",
         "opacity": 0.5017807593308368,
         "showlegend": false,
         "type": "scatter3d",
         "x": [
          -1.6656893385895049,
          -2.4471761886298893
         ],
         "y": [
          -0.16432546009139165,
          -0.12039915247470456
         ],
         "z": [
          -0.08846940687475921,
          1.0331347187481583
         ]
        },
        {
         "hoverinfo": "none",
         "legendgroup": "Bond importance",
         "line": {
          "color": "blue",
          "width": 9.805836221491727
         },
         "mode": "lines",
         "opacity": 0.6537224147661151,
         "showlegend": false,
         "type": "scatter3d",
         "x": [
          0.6909129801410049,
          -0.2437495311788689
         ],
         "y": [
          0.13580120436757812,
          0.00011222821233419973
         ],
         "z": [
          1.0300639926141604,
          -0.1014468086019305
         ]
        },
        {
         "hoverinfo": "none",
         "legendgroup": "Bond importance",
         "line": {
          "color": "red",
          "width": 6.828353501985291
         },
         "mode": "lines",
         "opacity": 0.4552235667990194,
         "showlegend": false,
         "type": "scatter3d",
         "x": [
          4.227554491149118,
          3.9081263471432077
         ],
         "y": [
          -1.3785388036711388,
          -1.9519513679950147
         ],
         "z": [
          -0.8790393281252091,
          0.014610194148773457
         ]
        },
        {
         "hoverinfo": "none",
         "legendgroup": "Bond importance",
         "line": {
          "color": "red",
          "width": 6.548722538182622
         },
         "mode": "lines",
         "opacity": 0.4365815025455081,
         "showlegend": false,
         "type": "scatter3d",
         "x": [
          4.227554491149118,
          4.628667545199277
         ],
         "y": [
          -1.3785388036711388,
          -2.111791611295648
         ],
         "z": [
          -0.8790393281252091,
          -1.6093683916586137
         ]
        },
        {
         "hoverinfo": "none",
         "legendgroup": "Bond importance",
         "line": {
          "color": "red",
          "width": 7.2652194003113015
         },
         "mode": "lines",
         "opacity": 0.4843479600207534,
         "showlegend": false,
         "type": "scatter3d",
         "x": [
          4.227554491149118,
          5.0605738635295126
         ],
         "y": [
          -1.3785388036711388,
          -0.696275355648892
         ],
         "z": [
          -0.8790393281252091,
          -0.6278349252952908
         ]
        },
        {
         "hoverinfo": "none",
         "legendgroup": "Bond importance",
         "line": {
          "color": "blue",
          "width": 7.9710874327640004
         },
         "mode": "lines",
         "opacity": 0.5314058288509333,
         "showlegend": false,
         "type": "scatter3d",
         "x": [
          3.7180136830341812,
          4.081678819064901
         ],
         "y": [
          1.2212334721786713,
          0.9912928930634535
         ],
         "z": [
          -0.036605933900683514,
          0.9817791389349527
         ]
        },
        {
         "hoverinfo": "none",
         "legendgroup": "Bond importance",
         "line": {
          "color": "blue",
          "width": 7.637601779430184
         },
         "mode": "lines",
         "opacity": 0.5091734519620122,
         "showlegend": false,
         "type": "scatter3d",
         "x": [
          3.7180136830341812,
          3.3048877251762763
         ],
         "y": [
          1.2212334721786713,
          2.2672065649193875
         ],
         "z": [
          -0.036605933900683514,
          0.014259556930670098
         ]
        },
        {
         "hoverinfo": "none",
         "legendgroup": "Bond importance",
         "line": {
          "color": "red",
          "width": 7.236926343615302
         },
         "mode": "lines",
         "opacity": 0.4824617562410201,
         "showlegend": false,
         "type": "scatter3d",
         "x": [
          3.7180136830341812,
          4.541476070522775
         ],
         "y": [
          1.2212334721786713,
          1.2727037107320536
         ],
         "z": [
          -0.036605933900683514,
          -0.7846820775759987
         ]
        },
        {
         "hoverinfo": "none",
         "legendgroup": "Bond importance",
         "line": {
          "color": "blue",
          "width": 8.455346572099943
         },
         "mode": "lines",
         "opacity": 0.5636897714733295,
         "showlegend": false,
         "type": "scatter3d",
         "x": [
          2.02651395936015,
          2.6709246251251915
         ],
         "y": [
          -0.5308411982456098,
          -0.4783835313876061
         ],
         "z": [
          0.5787981630410896,
          1.4898406261852932
         ]
        },
        {
         "hoverinfo": "none",
         "legendgroup": "Bond importance",
         "line": {
          "color": "blue",
          "width": 7.8440926441276035
         },
         "mode": "lines",
         "opacity": 0.5229395096085069,
         "showlegend": false,
         "type": "scatter3d",
         "x": [
          2.02651395936015,
          1.8657504018895197
         ],
         "y": [
          -0.5308411982456098,
          -1.5866671792038254
         ],
         "z": [
          0.5787981630410896,
          0.35016286084790965
         ]
        },
        {
         "hoverinfo": "none",
         "legendgroup": "Bond importance",
         "line": {
          "color": "blue",
          "width": 7.918224698034914
         },
         "mode": "lines",
         "opacity": 0.5278816465356609,
         "showlegend": false,
         "type": "scatter3d",
         "x": [
          0.3228479913591989,
          -0.25120057021234804
         ],
         "y": [
          -0.3998212085421933,
          -1.3235596961935925
         ],
         "z": [
          2.341602914276945,
          2.3560971212743205
         ]
        },
        {
         "hoverinfo": "none",
         "legendgroup": "Bond importance",
         "line": {
          "color": "blue",
          "width": 8.409919888981689
         },
         "mode": "lines",
         "opacity": 0.5606613259321126,
         "showlegend": false,
         "type": "scatter3d",
         "x": [
          0.3228479913591989,
          -0.0302578022108265
         ],
         "y": [
          -0.3998212085421933,
          0.4043599033497138
         ],
         "z": [
          2.341602914276945,
          3.0366838959407065
         ]
        },
        {
         "hoverinfo": "none",
         "legendgroup": "Bond importance",
         "line": {
          "color": "blue",
          "width": 7.931027069948111
         },
         "mode": "lines",
         "opacity": 0.5287351379965407,
         "showlegend": false,
         "type": "scatter3d",
         "x": [
          0.3228479913591989,
          1.3093787402016315
         ],
         "y": [
          -0.3998212085421933,
          -0.706746476946147
         ],
         "z": [
          2.341602914276945,
          2.8555003710506477
         ]
        },
        {
         "hoverinfo": "none",
         "legendgroup": "Bond importance",
         "line": {
          "color": "red",
          "width": 6.5188122163098
         },
         "mode": "lines",
         "opacity": 0.43458748108732,
         "showlegend": false,
         "type": "scatter3d",
         "x": [
          1.0511740907975533,
          1.1749186841992918
         ],
         "y": [
          1.6093891276465784,
          2.1932599385789144
         ],
         "z": [
          1.0265914914945884,
          1.9089223102975483
         ]
        },
        {
         "hoverinfo": "none",
         "legendgroup": "Bond importance",
         "line": {
          "color": "blue",
          "width": 7.906371820384522
         },
         "mode": "lines",
         "opacity": 0.5270914546923015,
         "showlegend": false,
         "type": "scatter3d",
         "x": [
          1.1956101384794469,
          1.0459022861959355
         ],
         "y": [
          2.0908348057340302,
          3.117434412082573
         ],
         "z": [
          -0.23268470182962375,
          -0.5031523247577558
         ]
        },
        {
         "hoverinfo": "none",
         "legendgroup": "Bond importance",
         "line": {
          "color": "red",
          "width": 7.137293059189744
         },
         "mode": "lines",
         "opacity": 0.4758195372793163,
         "showlegend": false,
         "type": "scatter3d",
         "x": [
          1.5903551174669963,
          1.875943148592789
         ],
         "y": [
          1.0400395662326698,
          1.413989752701653
         ],
         "z": [
          -1.2287343976669076,
          -2.1977585320967115
         ]
        },
        {
         "hoverinfo": "none",
         "legendgroup": "Bond importance",
         "line": {
          "color": "red",
          "width": 7.233987587753543
         },
         "mode": "lines",
         "opacity": 0.4822658391835695,
         "showlegend": false,
         "type": "scatter3d",
         "x": [
          0.43518385729535863,
          0.1863151653379164
         ],
         "y": [
          0.05614311291027773,
          -0.5266249054621276
         ],
         "z": [
          -1.2745356929756122,
          -2.117000982889071
         ]
        },
        {
         "hoverinfo": "none",
         "legendgroup": "Bond importance",
         "line": {
          "color": "red",
          "width": 7.257702259595039
         },
         "mode": "lines",
         "opacity": 0.48384681730633594,
         "showlegend": false,
         "type": "scatter3d",
         "x": [
          -2.357714486013864,
          -1.7481206525673496
         ],
         "y": [
          -0.36191838365183315,
          -0.3946286031944893
         ],
         "z": [
          -1.2863119617595402,
          -2.187526630242439
         ]
        },
        {
         "hoverinfo": "none",
         "legendgroup": "Bond importance",
         "line": {
          "color": "red",
          "width": 6.980789154192436
         },
         "mode": "lines",
         "opacity": 0.4653859436128291,
         "showlegend": false,
         "type": "scatter3d",
         "x": [
          -3.729271416733296,
          -4.1842941027699645
         ],
         "y": [
          -0.5043852994726982,
          -0.6539882905855826
         ],
         "z": [
          -1.3428782659429062,
          -2.312129319210815
         ]
        },
        {
         "hoverinfo": "none",
         "legendgroup": "Bond importance",
         "line": {
          "color": "red",
          "width": 7.0637846903899035
         },
         "mode": "lines",
         "opacity": 0.4709189793593269,
         "showlegend": false,
         "type": "scatter3d",
         "x": [
          -3.8435815200861083,
          -4.438705377977131
         ],
         "y": [
          -0.26359041962828667,
          -0.22519260427025234
         ],
         "z": [
          0.9954329759730757,
          1.9008799583066323
         ]
        },
        {
         "hoverinfo": "none",
         "legendgroup": "Bond importance",
         "line": {
          "color": "red",
          "width": 7.444573466077947
         },
         "mode": "lines",
         "opacity": 0.4963048977385298,
         "showlegend": false,
         "type": "scatter3d",
         "x": [
          -2.4471761886298893,
          -2.056015331452965
         ],
         "y": [
          -0.12039915247470456,
          0.0429293048823624
         ],
         "z": [
          1.0331347187481583,
          2.018316137193561
         ]
        },
        {
         "legendgroup": "Atoms",
         "mode": "markers",
         "name": "Atoms",
         "type": "scatter3d",
         "x": [
          null
         ],
         "y": [
          null
         ],
         "z": [
          null
         ]
        },
        {
         "legendgroup": "Atom importance",
         "mode": "markers",
         "name": "Atom importance",
         "type": "scatter3d",
         "x": [
          null
         ],
         "y": [
          null
         ],
         "z": [
          null
         ]
        },
        {
         "legendgroup": "Bonds",
         "mode": "markers",
         "name": "Bonds",
         "type": "scatter3d",
         "x": [
          null
         ],
         "y": [
          null
         ],
         "z": [
          null
         ]
        },
        {
         "legendgroup": "Bond importance",
         "mode": "markers",
         "name": "Bond importance",
         "showlegend": true,
         "type": "scatter3d",
         "x": [
          null
         ],
         "y": [
          null
         ],
         "z": [
          null
         ]
        }
       ],
       "layout": {
        "scene": {
         "xaxis": {
          "showgrid": false,
          "showticklabels": false,
          "title": {
           "text": ""
          },
          "zeroline": false
         },
         "yaxis": {
          "showgrid": false,
          "showticklabels": false,
          "title": {
           "text": ""
          },
          "zeroline": false
         },
         "zaxis": {
          "showgrid": false,
          "showticklabels": false,
          "title": {
           "text": ""
          },
          "zeroline": false
         }
        },
        "template": {
         "data": {
          "bar": [
           {
            "error_x": {
             "color": "#2a3f5f"
            },
            "error_y": {
             "color": "#2a3f5f"
            },
            "marker": {
             "line": {
              "color": "white",
              "width": 0.5
             },
             "pattern": {
              "fillmode": "overlay",
              "size": 10,
              "solidity": 0.2
             }
            },
            "type": "bar"
           }
          ],
          "barpolar": [
           {
            "marker": {
             "line": {
              "color": "white",
              "width": 0.5
             },
             "pattern": {
              "fillmode": "overlay",
              "size": 10,
              "solidity": 0.2
             }
            },
            "type": "barpolar"
           }
          ],
          "carpet": [
           {
            "aaxis": {
             "endlinecolor": "#2a3f5f",
             "gridcolor": "#C8D4E3",
             "linecolor": "#C8D4E3",
             "minorgridcolor": "#C8D4E3",
             "startlinecolor": "#2a3f5f"
            },
            "baxis": {
             "endlinecolor": "#2a3f5f",
             "gridcolor": "#C8D4E3",
             "linecolor": "#C8D4E3",
             "minorgridcolor": "#C8D4E3",
             "startlinecolor": "#2a3f5f"
            },
            "type": "carpet"
           }
          ],
          "choropleth": [
           {
            "colorbar": {
             "outlinewidth": 0,
             "ticks": ""
            },
            "type": "choropleth"
           }
          ],
          "contour": [
           {
            "colorbar": {
             "outlinewidth": 0,
             "ticks": ""
            },
            "colorscale": [
             [
              0,
              "#0d0887"
             ],
             [
              0.1111111111111111,
              "#46039f"
             ],
             [
              0.2222222222222222,
              "#7201a8"
             ],
             [
              0.3333333333333333,
              "#9c179e"
             ],
             [
              0.4444444444444444,
              "#bd3786"
             ],
             [
              0.5555555555555556,
              "#d8576b"
             ],
             [
              0.6666666666666666,
              "#ed7953"
             ],
             [
              0.7777777777777778,
              "#fb9f3a"
             ],
             [
              0.8888888888888888,
              "#fdca26"
             ],
             [
              1,
              "#f0f921"
             ]
            ],
            "type": "contour"
           }
          ],
          "contourcarpet": [
           {
            "colorbar": {
             "outlinewidth": 0,
             "ticks": ""
            },
            "type": "contourcarpet"
           }
          ],
          "heatmap": [
           {
            "colorbar": {
             "outlinewidth": 0,
             "ticks": ""
            },
            "colorscale": [
             [
              0,
              "#0d0887"
             ],
             [
              0.1111111111111111,
              "#46039f"
             ],
             [
              0.2222222222222222,
              "#7201a8"
             ],
             [
              0.3333333333333333,
              "#9c179e"
             ],
             [
              0.4444444444444444,
              "#bd3786"
             ],
             [
              0.5555555555555556,
              "#d8576b"
             ],
             [
              0.6666666666666666,
              "#ed7953"
             ],
             [
              0.7777777777777778,
              "#fb9f3a"
             ],
             [
              0.8888888888888888,
              "#fdca26"
             ],
             [
              1,
              "#f0f921"
             ]
            ],
            "type": "heatmap"
           }
          ],
          "heatmapgl": [
           {
            "colorbar": {
             "outlinewidth": 0,
             "ticks": ""
            },
            "colorscale": [
             [
              0,
              "#0d0887"
             ],
             [
              0.1111111111111111,
              "#46039f"
             ],
             [
              0.2222222222222222,
              "#7201a8"
             ],
             [
              0.3333333333333333,
              "#9c179e"
             ],
             [
              0.4444444444444444,
              "#bd3786"
             ],
             [
              0.5555555555555556,
              "#d8576b"
             ],
             [
              0.6666666666666666,
              "#ed7953"
             ],
             [
              0.7777777777777778,
              "#fb9f3a"
             ],
             [
              0.8888888888888888,
              "#fdca26"
             ],
             [
              1,
              "#f0f921"
             ]
            ],
            "type": "heatmapgl"
           }
          ],
          "histogram": [
           {
            "marker": {
             "pattern": {
              "fillmode": "overlay",
              "size": 10,
              "solidity": 0.2
             }
            },
            "type": "histogram"
           }
          ],
          "histogram2d": [
           {
            "colorbar": {
             "outlinewidth": 0,
             "ticks": ""
            },
            "colorscale": [
             [
              0,
              "#0d0887"
             ],
             [
              0.1111111111111111,
              "#46039f"
             ],
             [
              0.2222222222222222,
              "#7201a8"
             ],
             [
              0.3333333333333333,
              "#9c179e"
             ],
             [
              0.4444444444444444,
              "#bd3786"
             ],
             [
              0.5555555555555556,
              "#d8576b"
             ],
             [
              0.6666666666666666,
              "#ed7953"
             ],
             [
              0.7777777777777778,
              "#fb9f3a"
             ],
             [
              0.8888888888888888,
              "#fdca26"
             ],
             [
              1,
              "#f0f921"
             ]
            ],
            "type": "histogram2d"
           }
          ],
          "histogram2dcontour": [
           {
            "colorbar": {
             "outlinewidth": 0,
             "ticks": ""
            },
            "colorscale": [
             [
              0,
              "#0d0887"
             ],
             [
              0.1111111111111111,
              "#46039f"
             ],
             [
              0.2222222222222222,
              "#7201a8"
             ],
             [
              0.3333333333333333,
              "#9c179e"
             ],
             [
              0.4444444444444444,
              "#bd3786"
             ],
             [
              0.5555555555555556,
              "#d8576b"
             ],
             [
              0.6666666666666666,
              "#ed7953"
             ],
             [
              0.7777777777777778,
              "#fb9f3a"
             ],
             [
              0.8888888888888888,
              "#fdca26"
             ],
             [
              1,
              "#f0f921"
             ]
            ],
            "type": "histogram2dcontour"
           }
          ],
          "mesh3d": [
           {
            "colorbar": {
             "outlinewidth": 0,
             "ticks": ""
            },
            "type": "mesh3d"
           }
          ],
          "parcoords": [
           {
            "line": {
             "colorbar": {
              "outlinewidth": 0,
              "ticks": ""
             }
            },
            "type": "parcoords"
           }
          ],
          "pie": [
           {
            "automargin": true,
            "type": "pie"
           }
          ],
          "scatter": [
           {
            "fillpattern": {
             "fillmode": "overlay",
             "size": 10,
             "solidity": 0.2
            },
            "type": "scatter"
           }
          ],
          "scatter3d": [
           {
            "line": {
             "colorbar": {
              "outlinewidth": 0,
              "ticks": ""
             }
            },
            "marker": {
             "colorbar": {
              "outlinewidth": 0,
              "ticks": ""
             }
            },
            "type": "scatter3d"
           }
          ],
          "scattercarpet": [
           {
            "marker": {
             "colorbar": {
              "outlinewidth": 0,
              "ticks": ""
             }
            },
            "type": "scattercarpet"
           }
          ],
          "scattergeo": [
           {
            "marker": {
             "colorbar": {
              "outlinewidth": 0,
              "ticks": ""
             }
            },
            "type": "scattergeo"
           }
          ],
          "scattergl": [
           {
            "marker": {
             "colorbar": {
              "outlinewidth": 0,
              "ticks": ""
             }
            },
            "type": "scattergl"
           }
          ],
          "scattermapbox": [
           {
            "marker": {
             "colorbar": {
              "outlinewidth": 0,
              "ticks": ""
             }
            },
            "type": "scattermapbox"
           }
          ],
          "scatterpolar": [
           {
            "marker": {
             "colorbar": {
              "outlinewidth": 0,
              "ticks": ""
             }
            },
            "type": "scatterpolar"
           }
          ],
          "scatterpolargl": [
           {
            "marker": {
             "colorbar": {
              "outlinewidth": 0,
              "ticks": ""
             }
            },
            "type": "scatterpolargl"
           }
          ],
          "scatterternary": [
           {
            "marker": {
             "colorbar": {
              "outlinewidth": 0,
              "ticks": ""
             }
            },
            "type": "scatterternary"
           }
          ],
          "surface": [
           {
            "colorbar": {
             "outlinewidth": 0,
             "ticks": ""
            },
            "colorscale": [
             [
              0,
              "#0d0887"
             ],
             [
              0.1111111111111111,
              "#46039f"
             ],
             [
              0.2222222222222222,
              "#7201a8"
             ],
             [
              0.3333333333333333,
              "#9c179e"
             ],
             [
              0.4444444444444444,
              "#bd3786"
             ],
             [
              0.5555555555555556,
              "#d8576b"
             ],
             [
              0.6666666666666666,
              "#ed7953"
             ],
             [
              0.7777777777777778,
              "#fb9f3a"
             ],
             [
              0.8888888888888888,
              "#fdca26"
             ],
             [
              1,
              "#f0f921"
             ]
            ],
            "type": "surface"
           }
          ],
          "table": [
           {
            "cells": {
             "fill": {
              "color": "#EBF0F8"
             },
             "line": {
              "color": "white"
             }
            },
            "header": {
             "fill": {
              "color": "#C8D4E3"
             },
             "line": {
              "color": "white"
             }
            },
            "type": "table"
           }
          ]
         },
         "layout": {
          "annotationdefaults": {
           "arrowcolor": "#2a3f5f",
           "arrowhead": 0,
           "arrowwidth": 1
          },
          "autotypenumbers": "strict",
          "coloraxis": {
           "colorbar": {
            "outlinewidth": 0,
            "ticks": ""
           }
          },
          "colorscale": {
           "diverging": [
            [
             0,
             "#8e0152"
            ],
            [
             0.1,
             "#c51b7d"
            ],
            [
             0.2,
             "#de77ae"
            ],
            [
             0.3,
             "#f1b6da"
            ],
            [
             0.4,
             "#fde0ef"
            ],
            [
             0.5,
             "#f7f7f7"
            ],
            [
             0.6,
             "#e6f5d0"
            ],
            [
             0.7,
             "#b8e186"
            ],
            [
             0.8,
             "#7fbc41"
            ],
            [
             0.9,
             "#4d9221"
            ],
            [
             1,
             "#276419"
            ]
           ],
           "sequential": [
            [
             0,
             "#0d0887"
            ],
            [
             0.1111111111111111,
             "#46039f"
            ],
            [
             0.2222222222222222,
             "#7201a8"
            ],
            [
             0.3333333333333333,
             "#9c179e"
            ],
            [
             0.4444444444444444,
             "#bd3786"
            ],
            [
             0.5555555555555556,
             "#d8576b"
            ],
            [
             0.6666666666666666,
             "#ed7953"
            ],
            [
             0.7777777777777778,
             "#fb9f3a"
            ],
            [
             0.8888888888888888,
             "#fdca26"
            ],
            [
             1,
             "#f0f921"
            ]
           ],
           "sequentialminus": [
            [
             0,
             "#0d0887"
            ],
            [
             0.1111111111111111,
             "#46039f"
            ],
            [
             0.2222222222222222,
             "#7201a8"
            ],
            [
             0.3333333333333333,
             "#9c179e"
            ],
            [
             0.4444444444444444,
             "#bd3786"
            ],
            [
             0.5555555555555556,
             "#d8576b"
            ],
            [
             0.6666666666666666,
             "#ed7953"
            ],
            [
             0.7777777777777778,
             "#fb9f3a"
            ],
            [
             0.8888888888888888,
             "#fdca26"
            ],
            [
             1,
             "#f0f921"
            ]
           ]
          },
          "colorway": [
           "#636efa",
           "#EF553B",
           "#00cc96",
           "#ab63fa",
           "#FFA15A",
           "#19d3f3",
           "#FF6692",
           "#B6E880",
           "#FF97FF",
           "#FECB52"
          ],
          "font": {
           "color": "#2a3f5f"
          },
          "geo": {
           "bgcolor": "white",
           "lakecolor": "white",
           "landcolor": "white",
           "showlakes": true,
           "showland": true,
           "subunitcolor": "#C8D4E3"
          },
          "hoverlabel": {
           "align": "left"
          },
          "hovermode": "closest",
          "mapbox": {
           "style": "light"
          },
          "paper_bgcolor": "white",
          "plot_bgcolor": "white",
          "polar": {
           "angularaxis": {
            "gridcolor": "#EBF0F8",
            "linecolor": "#EBF0F8",
            "ticks": ""
           },
           "bgcolor": "white",
           "radialaxis": {
            "gridcolor": "#EBF0F8",
            "linecolor": "#EBF0F8",
            "ticks": ""
           }
          },
          "scene": {
           "xaxis": {
            "backgroundcolor": "white",
            "gridcolor": "#DFE8F3",
            "gridwidth": 2,
            "linecolor": "#EBF0F8",
            "showbackground": true,
            "ticks": "",
            "zerolinecolor": "#EBF0F8"
           },
           "yaxis": {
            "backgroundcolor": "white",
            "gridcolor": "#DFE8F3",
            "gridwidth": 2,
            "linecolor": "#EBF0F8",
            "showbackground": true,
            "ticks": "",
            "zerolinecolor": "#EBF0F8"
           },
           "zaxis": {
            "backgroundcolor": "white",
            "gridcolor": "#DFE8F3",
            "gridwidth": 2,
            "linecolor": "#EBF0F8",
            "showbackground": true,
            "ticks": "",
            "zerolinecolor": "#EBF0F8"
           }
          },
          "shapedefaults": {
           "line": {
            "color": "#2a3f5f"
           }
          },
          "ternary": {
           "aaxis": {
            "gridcolor": "#DFE8F3",
            "linecolor": "#A2B1C6",
            "ticks": ""
           },
           "baxis": {
            "gridcolor": "#DFE8F3",
            "linecolor": "#A2B1C6",
            "ticks": ""
           },
           "bgcolor": "white",
           "caxis": {
            "gridcolor": "#DFE8F3",
            "linecolor": "#A2B1C6",
            "ticks": ""
           }
          },
          "title": {
           "x": 0.05
          },
          "xaxis": {
           "automargin": true,
           "gridcolor": "#EBF0F8",
           "linecolor": "#EBF0F8",
           "ticks": "",
           "title": {
            "standoff": 15
           },
           "zerolinecolor": "#EBF0F8",
           "zerolinewidth": 2
          },
          "yaxis": {
           "automargin": true,
           "gridcolor": "#EBF0F8",
           "linecolor": "#EBF0F8",
           "ticks": "",
           "title": {
            "standoff": 15
           },
           "zerolinecolor": "#EBF0F8",
           "zerolinewidth": 2
          }
         }
        }
       }
      }
     },
     "metadata": {},
     "output_type": "display_data"
    }
   ],
   "source": [
    "plot_molecule_importance(mol_graph=molecule, mol='l', explanation=explanation, palette='normal')"
   ]
  }
 ],
 "metadata": {
  "kernelspec": {
   "display_name": "torchChem",
   "language": "python",
   "name": "python3"
  },
  "language_info": {
   "codemirror_mode": {
    "name": "ipython",
    "version": 3
   },
   "file_extension": ".py",
   "mimetype": "text/x-python",
   "name": "python",
   "nbconvert_exporter": "python",
   "pygments_lexer": "ipython3",
   "version": "3.8.17"
  },
  "orig_nbformat": 4,
  "vscode": {
   "interpreter": {
    "hash": "a8c1d358141dd5f5aee27d895a71e983bd947816167b1f58ab3ec2e331871cfe"
   }
  }
 },
 "nbformat": 4,
 "nbformat_minor": 2
}
